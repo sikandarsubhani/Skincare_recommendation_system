{
 "cells": [
  {
   "cell_type": "code",
   "execution_count": null,
   "metadata": {
    "id": "sJOqIE8k6_LC"
   },
   "outputs": [],
   "source": []
  },
  {
   "cell_type": "code",
   "execution_count": 22,
   "metadata": {
    "id": "m7xVhqQe6AaQ"
   },
   "outputs": [],
   "source": [
    "import numpy as np\n",
    "import pandas as pd\n",
    "from imblearn.over_sampling import RandomOverSampler\n",
    "from sklearn.model_selection import train_test_split\n",
    "from sklearn.metrics import f1_score\n",
    "from keras.models import Sequential\n",
    "from keras.layers import Conv2D, MaxPooling2D\n",
    "from keras.layers import Activation, Dropout, Flatten, Dense\n",
    "import tensorflow as tf\n",
    "import matplotlib.pyplot as plt"
   ]
  },
  {
   "cell_type": "code",
   "execution_count": 23,
   "metadata": {
    "id": "y0MYX0Nx6WAo"
   },
   "outputs": [],
   "source": [
    "# Load data\n",
    "data = pd.read_csv(\"C:/Users/navee/Desktop/sikandar/FYP/Skin Care/model/RGB_Dermnet.csv\")"
   ]
  },
  {
   "cell_type": "code",
   "execution_count": 24,
   "metadata": {},
   "outputs": [
    {
     "data": {
      "text/plain": [
       "\"# Define class names\\nclasses = {\\n    0: ('akiec', 'Actinic keratoses and intraepithelial carcinomae'),\\n    1: ('bcc', 'basal cell carcinoma'),\\n    2: ('bkl', 'benign keratosis-like lesions'),\\n    3: ('df', 'dermatofibroma'),\\n    4: ('nv', 'melanocytic nevi'),\\n    5: ('vasc', 'pyogenic granulomas and hemorrhage'),\\n    6: ('mel', 'melanoma'),\\n    7: ('Hives', 'Urticaria'),\\n    8: ('Scabies', 'Lyme Disease and other Infestations and Bites'),\\n    9: ('Bullous Pemphigoid', ''),\\n    10: ('Nail Fungus', ''),\\n    11: ('acne', 'Rosacea'),\\n    12: ('Vascular Tumor', ''),\\n    13: ('Vasculitis', ''),\\n    14: ('Pigmentation Disorder', ''),\\n    15: ('STDs', 'Herpes/AIDS')\\n}\\n\""
      ]
     },
     "execution_count": 24,
     "metadata": {},
     "output_type": "execute_result"
    }
   ],
   "source": [
    "'''# Define class names\n",
    "classes = {\n",
    "    0: ('akiec', 'Actinic keratoses and intraepithelial carcinomae'),\n",
    "    1: ('bcc', 'basal cell carcinoma'),\n",
    "    2: ('bkl', 'benign keratosis-like lesions'),\n",
    "    3: ('df', 'dermatofibroma'),\n",
    "    4: ('nv', 'melanocytic nevi'),\n",
    "    5: ('vasc', 'pyogenic granulomas and hemorrhage; Vascular Tumor'),\n",
    "    6: ('mel', 'melanoma'),\n",
    "    7: ('Hives', 'Urticaria'),\n",
    "    8: ('Scabies', 'Lyme Disease and other Infestations and Bites'),\n",
    "    9: ('Bullous Pemphigoid', ''),\n",
    "    10: ('acne', 'Rosacea'),\n",
    "    11: ('Vasculitis', ''),\n",
    "    12: ('Pigmentation Disorder', ''),\n",
    "    13: ('STDs', 'Herpes/AIDS')\n",
    "}\n",
    "\n",
    "'''\n"
   ]
  },
  {
   "cell_type": "code",
   "execution_count": 25,
   "metadata": {
    "colab": {
     "base_uri": "https://localhost:8080/",
     "height": 475
    },
    "id": "GCMNP8Ah6XbF",
    "outputId": "75e063f3-2a8b-4a8b-90b6-af8d51d15389"
   },
   "outputs": [
    {
     "data": {
      "image/png": "[encoded data removed]",
      "text/plain": [
       "<Figure size 640x480 with 1 Axes>"
      ]
     },
     "metadata": {},
     "output_type": "display_data"
    }
   ],
   "source": [
    "# EDA\n",
    "distribution = data['label'].value_counts()\n",
    "distribution.plot.bar()\n",
    "plt.xlabel('Classes')\n",
    "plt.ylabel('Count')\n",
    "plt.title('Distribution of Classes')\n",
    "plt.show()"
   ]
  },
  {
   "cell_type": "code",
   "execution_count": 26,
   "metadata": {
    "id": "dxkZyBGQ6aDB"
   },
   "outputs": [],
   "source": [
    "# Fix data imbalance\n",
    "sampler = RandomOverSampler()\n",
    "XData, yData = sampler.fit_resample(data.drop(columns=['label']), data['label'])"
   ]
  },
  {
   "cell_type": "code",
   "execution_count": 27,
   "metadata": {
    "id": "yTCXLjVL6biT"
   },
   "outputs": [],
   "source": [
    "# Reshape data\n",
    "XData = np.array(XData).reshape((-1, 28, 28, 3))\n",
    "XData = XData / 255"
   ]
  },
  {
   "cell_type": "code",
   "execution_count": 28,
   "metadata": {
    "id": "rfqpbaBk6c9n"
   },
   "outputs": [],
   "source": [
    "# Create train and validation sets\n",
    "Xtrain, Xtest, Ytrain, Ytest = train_test_split(XData, yData, test_size=0.2)"
   ]
  },
  {
   "cell_type": "code",
   "execution_count": 29,
   "metadata": {
    "id": "a-i8VoFo6gRH"
   },
   "outputs": [],
   "source": [
    "# Define model\n",
    "img_width, img_height = 28, 28\n",
    "input_shape = (img_width, img_height, 3)\n",
    "\n",
    "model = Sequential()\n",
    "model.add(Conv2D(32, (2, 2), input_shape=input_shape))\n",
    "model.add(Activation('swish'))\n",
    "model.add(MaxPooling2D(pool_size=(2, 2)))\n",
    "\n",
    "model.add(Conv2D(32, (2, 2)))\n",
    "model.add(Activation('swish'))\n",
    "model.add(MaxPooling2D(pool_size=(2, 2)))\n",
    "\n",
    "model.add(Conv2D(64, (2, 2)))\n",
    "model.add(Activation('swish'))\n",
    "model.add(MaxPooling2D(pool_size=(2, 2)))\n",
    "\n",
    "model.add(Flatten())\n",
    "model.add(Dense(64))\n",
    "model.add(Activation('swish'))\n",
    "model.add(Dropout(0.5))\n",
    "model.add(Dense(15))  # Updated to match the number of classes\n",
    "model.add(Activation('softmax'))"
   ]
  },
  {
   "cell_type": "code",
   "execution_count": 30,
   "metadata": {
    "id": "H_tuPLZZ6i_Z"
   },
   "outputs": [],
   "source": [
    "model.compile(loss='sparse_categorical_crossentropy',\n",
    "              optimizer='nadam',\n",
    "              metrics=['accuracy'])"
   ]
  },
  {
   "cell_type": "code",
   "execution_count": 31,
   "metadata": {
    "id": "ftfLGBic6lB1"
   },
   "outputs": [],
   "source": [
    "callback = tf.keras.callbacks.ModelCheckpoint(filepath='dermnet_m1.h5',\n",
    "                                               monitor='val_acc', mode='max',\n",
    "                                               verbose=1)"
   ]
  },
  {
   "cell_type": "code",
   "execution_count": 32,
   "metadata": {
    "id": "pkyl7eWl6m6F"
   },
   "outputs": [
    {
     "ename": "",
     "evalue": "",
     "output_type": "error",
     "traceback": [
      "\u001b[1;31mThe Kernel crashed while executing code in the current cell or a previous cell. \n",
      "\u001b[1;31mPlease review the code in the cell(s) to identify a possible cause of the failure. \n",
      "\u001b[1;31mClick <a href='https://aka.ms/vscodeJupyterKernelCrash'>here</a> for more info. \n",
      "\u001b[1;31mView Jupyter <a href='command:jupyter.viewOutput'>log</a> for further details."
     ]
    }
   ],
   "source": [
    "early_stopping = tf.keras.callbacks.EarlyStopping(patience=10, restore_best_weights=True)"
   ]
  },
  {
   "cell_type": "code",
   "execution_count": 33,
   "metadata": {
    "colab": {
     "base_uri": "https://localhost:8080/"
    },
    "id": "WIieV4vp6ppC",
    "outputId": "f6539881-c8ca-48bb-d7a6-2430c4726e69"
   },
   "outputs": [
    {
     "name": "stdout",
     "output_type": "stream",
     "text": [
      "Epoch 1/100\n",
      "2515/2515 [==============================] - ETA: 0s - loss: 1.9291 - accuracy: 0.3104\n",
      "Epoch 1: saving model to dermnet_m1.h5\n",
      "2515/2515 [==============================] - 76s 29ms/step - loss: 1.9291 - accuracy: 0.3104 - val_loss: 1.5784 - val_accuracy: 0.4343\n",
      "Epoch 2/100\n",
      "   1/2515 [..............................] - ETA: 1:03 - loss: 1.7184 - accuracy: 0.3438"
     ]
    },
    {
     "name": "stderr",
     "output_type": "stream",
     "text": [
      "c:\\Users\\navee\\AppData\\Local\\Programs\\Python\\Python310\\lib\\site-packages\\keras\\src\\engine\\training.py:3079: UserWarning: You are saving your model as an HDF5 file via `model.save()`. This file format is considered legacy. We recommend using instead the native Keras format, e.g. `model.save('my_model.keras')`.\n",
      "  saving_api.save_model(\n"
     ]
    },
    {
     "name": "stdout",
     "output_type": "stream",
     "text": [
      "2514/2515 [============================>.] - ETA: 0s - loss: 1.5708 - accuracy: 0.4290\n",
      "Epoch 2: saving model to dermnet_m1.h5\n",
      "2515/2515 [==============================] - 65s 26ms/step - loss: 1.5707 - accuracy: 0.4290 - val_loss: 1.3797 - val_accuracy: 0.5064\n",
      "Epoch 3/100\n",
      "2515/2515 [==============================] - ETA: 0s - loss: 1.4037 - accuracy: 0.4848\n",
      "Epoch 3: saving model to dermnet_m1.h5\n",
      "2515/2515 [==============================] - 70s 28ms/step - loss: 1.4037 - accuracy: 0.4848 - val_loss: 1.2172 - val_accuracy: 0.5615\n",
      "Epoch 4/100\n",
      "2513/2515 [============================>.] - ETA: 0s - loss: 1.2855 - accuracy: 0.5261\n",
      "Epoch 4: saving model to dermnet_m1.h5\n",
      "2515/2515 [==============================] - 69s 28ms/step - loss: 1.2856 - accuracy: 0.5261 - val_loss: 1.0891 - val_accuracy: 0.6109\n",
      "Epoch 5/100\n",
      "2513/2515 [============================>.] - ETA: 0s - loss: 1.1823 - accuracy: 0.5640\n",
      "Epoch 5: saving model to dermnet_m1.h5\n",
      "2515/2515 [==============================] - 71s 28ms/step - loss: 1.1822 - accuracy: 0.5640 - val_loss: 0.9740 - val_accuracy: 0.6530\n",
      "Epoch 6/100\n",
      "2513/2515 [============================>.] - ETA: 0s - loss: 1.0997 - accuracy: 0.5933\n",
      "Epoch 6: saving model to dermnet_m1.h5\n",
      "2515/2515 [==============================] - 64s 26ms/step - loss: 1.0997 - accuracy: 0.5933 - val_loss: 0.8813 - val_accuracy: 0.6841\n",
      "Epoch 7/100\n",
      "2513/2515 [============================>.] - ETA: 0s - loss: 1.0204 - accuracy: 0.6224\n",
      "Epoch 7: saving model to dermnet_m1.h5\n",
      "2515/2515 [==============================] - 67s 27ms/step - loss: 1.0205 - accuracy: 0.6224 - val_loss: 0.7948 - val_accuracy: 0.7217\n",
      "Epoch 8/100\n",
      "2513/2515 [============================>.] - ETA: 0s - loss: 0.9548 - accuracy: 0.6458\n",
      "Epoch 8: saving model to dermnet_m1.h5\n",
      "2515/2515 [==============================] - 64s 25ms/step - loss: 0.9549 - accuracy: 0.6458 - val_loss: 0.7155 - val_accuracy: 0.7650\n",
      "Epoch 9/100\n",
      "2514/2515 [============================>.] - ETA: 0s - loss: 0.8937 - accuracy: 0.6702\n",
      "Epoch 9: saving model to dermnet_m1.h5\n",
      "2515/2515 [==============================] - 63s 25ms/step - loss: 0.8937 - accuracy: 0.6702 - val_loss: 0.6447 - val_accuracy: 0.7821\n",
      "Epoch 10/100\n",
      "2515/2515 [==============================] - ETA: 0s - loss: 0.8435 - accuracy: 0.6866\n",
      "Epoch 10: saving model to dermnet_m1.h5\n",
      "2515/2515 [==============================] - 60s 24ms/step - loss: 0.8435 - accuracy: 0.6866 - val_loss: 0.6264 - val_accuracy: 0.7860\n",
      "Epoch 11/100\n",
      "2515/2515 [==============================] - ETA: 0s - loss: 0.7995 - accuracy: 0.7040\n",
      "Epoch 11: saving model to dermnet_m1.h5\n",
      "2515/2515 [==============================] - 67s 27ms/step - loss: 0.7995 - accuracy: 0.7040 - val_loss: 0.5726 - val_accuracy: 0.8092\n",
      "Epoch 12/100\n",
      "2515/2515 [==============================] - ETA: 0s - loss: 0.7611 - accuracy: 0.7167\n",
      "Epoch 12: saving model to dermnet_m1.h5\n",
      "2515/2515 [==============================] - 65s 26ms/step - loss: 0.7611 - accuracy: 0.7167 - val_loss: 0.4891 - val_accuracy: 0.8417\n",
      "Epoch 13/100\n",
      "2514/2515 [============================>.] - ETA: 0s - loss: 0.7244 - accuracy: 0.7292\n",
      "Epoch 13: saving model to dermnet_m1.h5\n",
      "2515/2515 [==============================] - 66s 26ms/step - loss: 0.7245 - accuracy: 0.7292 - val_loss: 0.4645 - val_accuracy: 0.8540\n",
      "Epoch 14/100\n",
      "2515/2515 [==============================] - ETA: 0s - loss: 0.6951 - accuracy: 0.7402\n",
      "Epoch 14: saving model to dermnet_m1.h5\n",
      "2515/2515 [==============================] - 66s 26ms/step - loss: 0.6951 - accuracy: 0.7402 - val_loss: 0.4205 - val_accuracy: 0.8650\n",
      "Epoch 15/100\n",
      "2513/2515 [============================>.] - ETA: 0s - loss: 0.6664 - accuracy: 0.7506\n",
      "Epoch 15: saving model to dermnet_m1.h5\n",
      "2515/2515 [==============================] - 67s 27ms/step - loss: 0.6665 - accuracy: 0.7506 - val_loss: 0.3947 - val_accuracy: 0.8724\n",
      "Epoch 16/100\n",
      "2513/2515 [============================>.] - ETA: 0s - loss: 0.6433 - accuracy: 0.7591\n",
      "Epoch 16: saving model to dermnet_m1.h5\n",
      "2515/2515 [==============================] - 71s 28ms/step - loss: 0.6433 - accuracy: 0.7591 - val_loss: 0.3884 - val_accuracy: 0.8709\n",
      "Epoch 17/100\n",
      "2513/2515 [============================>.] - ETA: 0s - loss: 0.6166 - accuracy: 0.7703\n",
      "Epoch 17: saving model to dermnet_m1.h5\n",
      "2515/2515 [==============================] - 77s 31ms/step - loss: 0.6166 - accuracy: 0.7703 - val_loss: 0.3556 - val_accuracy: 0.8850\n",
      "Epoch 18/100\n",
      "2513/2515 [============================>.] - ETA: 0s - loss: 0.5998 - accuracy: 0.7742\n",
      "Epoch 18: saving model to dermnet_m1.h5\n",
      "2515/2515 [==============================] - 65s 26ms/step - loss: 0.5998 - accuracy: 0.7741 - val_loss: 0.3323 - val_accuracy: 0.8938\n",
      "Epoch 19/100\n",
      "2514/2515 [============================>.] - ETA: 0s - loss: 0.5828 - accuracy: 0.7811\n",
      "Epoch 19: saving model to dermnet_m1.h5\n",
      "2515/2515 [==============================] - 66s 26ms/step - loss: 0.5828 - accuracy: 0.7811 - val_loss: 0.3094 - val_accuracy: 0.9007\n",
      "Epoch 20/100\n",
      "2515/2515 [==============================] - ETA: 0s - loss: 0.5668 - accuracy: 0.7876\n",
      "Epoch 20: saving model to dermnet_m1.h5\n",
      "2515/2515 [==============================] - 65s 26ms/step - loss: 0.5668 - accuracy: 0.7876 - val_loss: 0.3201 - val_accuracy: 0.8933\n",
      "Epoch 21/100\n",
      "2514/2515 [============================>.] - ETA: 0s - loss: 0.5544 - accuracy: 0.7920\n",
      "Epoch 21: saving model to dermnet_m1.h5\n",
      "2515/2515 [==============================] - 66s 26ms/step - loss: 0.5544 - accuracy: 0.7920 - val_loss: 0.2970 - val_accuracy: 0.9029\n",
      "Epoch 22/100\n",
      "2514/2515 [============================>.] - ETA: 0s - loss: 0.5396 - accuracy: 0.7977\n",
      "Epoch 22: saving model to dermnet_m1.h5\n",
      "2515/2515 [==============================] - 76s 30ms/step - loss: 0.5396 - accuracy: 0.7977 - val_loss: 0.2933 - val_accuracy: 0.9013\n",
      "Epoch 23/100\n",
      "2514/2515 [============================>.] - ETA: 0s - loss: 0.5264 - accuracy: 0.8017\n",
      "Epoch 23: saving model to dermnet_m1.h5\n",
      "2515/2515 [==============================] - 69s 27ms/step - loss: 0.5264 - accuracy: 0.8017 - val_loss: 0.2598 - val_accuracy: 0.9148\n",
      "Epoch 24/100\n",
      "2514/2515 [============================>.] - ETA: 0s - loss: 0.5111 - accuracy: 0.8088\n",
      "Epoch 24: saving model to dermnet_m1.h5\n",
      "2515/2515 [==============================] - 65s 26ms/step - loss: 0.5111 - accuracy: 0.8088 - val_loss: 0.2559 - val_accuracy: 0.9147\n",
      "Epoch 25/100\n",
      "2515/2515 [==============================] - ETA: 0s - loss: 0.5018 - accuracy: 0.8115\n",
      "Epoch 25: saving model to dermnet_m1.h5\n",
      "2515/2515 [==============================] - 64s 26ms/step - loss: 0.5018 - accuracy: 0.8115 - val_loss: 0.2405 - val_accuracy: 0.9240\n",
      "Epoch 26/100\n",
      "2513/2515 [============================>.] - ETA: 0s - loss: 0.4960 - accuracy: 0.8131\n",
      "Epoch 26: saving model to dermnet_m1.h5\n",
      "2515/2515 [==============================] - 70s 28ms/step - loss: 0.4960 - accuracy: 0.8131 - val_loss: 0.2492 - val_accuracy: 0.9165\n",
      "Epoch 27/100\n",
      "2513/2515 [============================>.] - ETA: 0s - loss: 0.4817 - accuracy: 0.8187\n",
      "Epoch 27: saving model to dermnet_m1.h5\n",
      "2515/2515 [==============================] - 77s 31ms/step - loss: 0.4817 - accuracy: 0.8187 - val_loss: 0.2337 - val_accuracy: 0.9227\n",
      "Epoch 28/100\n",
      "2515/2515 [==============================] - ETA: 0s - loss: 0.4756 - accuracy: 0.8211\n",
      "Epoch 28: saving model to dermnet_m1.h5\n",
      "2515/2515 [==============================] - 75s 30ms/step - loss: 0.4756 - accuracy: 0.8211 - val_loss: 0.2175 - val_accuracy: 0.9268\n",
      "Epoch 29/100\n",
      "2515/2515 [==============================] - ETA: 0s - loss: 0.4640 - accuracy: 0.8254\n",
      "Epoch 29: saving model to dermnet_m1.h5\n",
      "2515/2515 [==============================] - 75s 30ms/step - loss: 0.4640 - accuracy: 0.8254 - val_loss: 0.2222 - val_accuracy: 0.9263\n",
      "Epoch 30/100\n",
      "2515/2515 [==============================] - ETA: 0s - loss: 0.4570 - accuracy: 0.8263\n",
      "Epoch 30: saving model to dermnet_m1.h5\n",
      "2515/2515 [==============================] - 65s 26ms/step - loss: 0.4570 - accuracy: 0.8263 - val_loss: 0.2166 - val_accuracy: 0.9268\n",
      "Epoch 31/100\n",
      "2515/2515 [==============================] - ETA: 0s - loss: 0.4476 - accuracy: 0.8314\n",
      "Epoch 31: saving model to dermnet_m1.h5\n",
      "2515/2515 [==============================] - 109s 43ms/step - loss: 0.4476 - accuracy: 0.8314 - val_loss: 0.2063 - val_accuracy: 0.9304\n",
      "Epoch 32/100\n",
      "2514/2515 [============================>.] - ETA: 0s - loss: 0.4432 - accuracy: 0.8341\n",
      "Epoch 32: saving model to dermnet_m1.h5\n",
      "2515/2515 [==============================] - 72s 29ms/step - loss: 0.4431 - accuracy: 0.8341 - val_loss: 0.1953 - val_accuracy: 0.9356\n",
      "Epoch 33/100\n",
      "2514/2515 [============================>.] - ETA: 0s - loss: 0.4332 - accuracy: 0.8360\n",
      "Epoch 33: saving model to dermnet_m1.h5\n",
      "2515/2515 [==============================] - 92s 37ms/step - loss: 0.4332 - accuracy: 0.8360 - val_loss: 0.2008 - val_accuracy: 0.9310\n",
      "Epoch 34/100\n",
      "2515/2515 [==============================] - ETA: 0s - loss: 0.4333 - accuracy: 0.8357\n",
      "Epoch 34: saving model to dermnet_m1.h5\n",
      "2515/2515 [==============================] - 93s 37ms/step - loss: 0.4333 - accuracy: 0.8357 - val_loss: 0.1885 - val_accuracy: 0.9376\n",
      "Epoch 35/100\n",
      "2514/2515 [============================>.] - ETA: 0s - loss: 0.4182 - accuracy: 0.8413\n",
      "Epoch 35: saving model to dermnet_m1.h5\n",
      "2515/2515 [==============================] - 136s 54ms/step - loss: 0.4182 - accuracy: 0.8413 - val_loss: 0.1821 - val_accuracy: 0.9434\n",
      "Epoch 36/100\n",
      "2515/2515 [==============================] - ETA: 0s - loss: 0.4164 - accuracy: 0.8417\n",
      "Epoch 36: saving model to dermnet_m1.h5\n",
      "2515/2515 [==============================] - 149s 59ms/step - loss: 0.4164 - accuracy: 0.8417 - val_loss: 0.1815 - val_accuracy: 0.9398\n",
      "Epoch 37/100\n",
      "2515/2515 [==============================] - ETA: 0s - loss: 0.4172 - accuracy: 0.8438\n",
      "Epoch 37: saving model to dermnet_m1.h5\n",
      "2515/2515 [==============================] - 131s 52ms/step - loss: 0.4172 - accuracy: 0.8438 - val_loss: 0.1788 - val_accuracy: 0.9387\n",
      "Epoch 38/100\n",
      "2514/2515 [============================>.] - ETA: 0s - loss: 0.4064 - accuracy: 0.8450\n",
      "Epoch 38: saving model to dermnet_m1.h5\n",
      "2515/2515 [==============================] - 125s 50ms/step - loss: 0.4064 - accuracy: 0.8451 - val_loss: 0.1731 - val_accuracy: 0.9399\n",
      "Epoch 39/100\n",
      "2514/2515 [============================>.] - ETA: 0s - loss: 0.4026 - accuracy: 0.8467\n",
      "Epoch 39: saving model to dermnet_m1.h5\n",
      "2515/2515 [==============================] - 109s 43ms/step - loss: 0.4026 - accuracy: 0.8467 - val_loss: 0.1667 - val_accuracy: 0.9443\n",
      "Epoch 40/100\n",
      "2515/2515 [==============================] - ETA: 0s - loss: 0.3933 - accuracy: 0.8514\n",
      "Epoch 40: saving model to dermnet_m1.h5\n",
      "2515/2515 [==============================] - 117s 47ms/step - loss: 0.3933 - accuracy: 0.8514 - val_loss: 0.1662 - val_accuracy: 0.9471\n",
      "Epoch 41/100\n",
      "2514/2515 [============================>.] - ETA: 0s - loss: 0.3927 - accuracy: 0.8530\n",
      "Epoch 41: saving model to dermnet_m1.h5\n",
      "2515/2515 [==============================] - 123s 49ms/step - loss: 0.3928 - accuracy: 0.8529 - val_loss: 0.1621 - val_accuracy: 0.9469\n",
      "Epoch 42/100\n",
      "2515/2515 [==============================] - ETA: 0s - loss: 0.3828 - accuracy: 0.8551\n",
      "Epoch 42: saving model to dermnet_m1.h5\n",
      "2515/2515 [==============================] - 125s 50ms/step - loss: 0.3828 - accuracy: 0.8551 - val_loss: 0.1646 - val_accuracy: 0.9458\n",
      "Epoch 43/100\n",
      "2514/2515 [============================>.] - ETA: 0s - loss: 0.3793 - accuracy: 0.8570\n",
      "Epoch 43: saving model to dermnet_m1.h5\n",
      "2515/2515 [==============================] - 125s 50ms/step - loss: 0.3793 - accuracy: 0.8570 - val_loss: 0.1569 - val_accuracy: 0.9477\n",
      "Epoch 44/100\n",
      "2513/2515 [============================>.] - ETA: 0s - loss: 0.3770 - accuracy: 0.8583\n",
      "Epoch 44: saving model to dermnet_m1.h5\n",
      "2515/2515 [==============================] - 122s 48ms/step - loss: 0.3769 - accuracy: 0.8583 - val_loss: 0.1544 - val_accuracy: 0.9485\n",
      "Epoch 45/100\n",
      "2515/2515 [==============================] - ETA: 0s - loss: 0.3743 - accuracy: 0.8573\n",
      "Epoch 45: saving model to dermnet_m1.h5\n",
      "2515/2515 [==============================] - 126s 50ms/step - loss: 0.3743 - accuracy: 0.8573 - val_loss: 0.1488 - val_accuracy: 0.9495\n",
      "Epoch 46/100\n",
      "2514/2515 [============================>.] - ETA: 0s - loss: 0.3748 - accuracy: 0.8579\n",
      "Epoch 46: saving model to dermnet_m1.h5\n",
      "2515/2515 [==============================] - 127s 51ms/step - loss: 0.3747 - accuracy: 0.8579 - val_loss: 0.1555 - val_accuracy: 0.9504\n",
      "Epoch 47/100\n",
      "2515/2515 [==============================] - ETA: 0s - loss: 0.3659 - accuracy: 0.8624\n",
      "Epoch 47: saving model to dermnet_m1.h5\n",
      "2515/2515 [==============================] - 119s 47ms/step - loss: 0.3659 - accuracy: 0.8624 - val_loss: 0.1541 - val_accuracy: 0.9485\n",
      "Epoch 48/100\n",
      "2513/2515 [============================>.] - ETA: 0s - loss: 0.3659 - accuracy: 0.8624\n",
      "Epoch 48: saving model to dermnet_m1.h5\n",
      "2515/2515 [==============================] - 123s 49ms/step - loss: 0.3660 - accuracy: 0.8623 - val_loss: 0.1508 - val_accuracy: 0.9500\n",
      "Epoch 49/100\n",
      "2515/2515 [==============================] - ETA: 0s - loss: 0.3605 - accuracy: 0.8638\n",
      "Epoch 49: saving model to dermnet_m1.h5\n",
      "2515/2515 [==============================] - 123s 49ms/step - loss: 0.3605 - accuracy: 0.8638 - val_loss: 0.1441 - val_accuracy: 0.9529\n",
      "Epoch 50/100\n",
      "2515/2515 [==============================] - ETA: 0s - loss: 0.3573 - accuracy: 0.8653\n",
      "Epoch 50: saving model to dermnet_m1.h5\n",
      "2515/2515 [==============================] - 121s 48ms/step - loss: 0.3573 - accuracy: 0.8653 - val_loss: 0.1431 - val_accuracy: 0.9526\n",
      "Epoch 51/100\n",
      "2514/2515 [============================>.] - ETA: 0s - loss: 0.3537 - accuracy: 0.8663\n",
      "Epoch 51: saving model to dermnet_m1.h5\n",
      "2515/2515 [==============================] - 124s 49ms/step - loss: 0.3537 - accuracy: 0.8663 - val_loss: 0.1422 - val_accuracy: 0.9510\n",
      "Epoch 52/100\n",
      "2514/2515 [============================>.] - ETA: 0s - loss: 0.3529 - accuracy: 0.8682\n",
      "Epoch 52: saving model to dermnet_m1.h5\n",
      "2515/2515 [==============================] - 115s 46ms/step - loss: 0.3529 - accuracy: 0.8681 - val_loss: 0.1442 - val_accuracy: 0.9525\n",
      "Epoch 53/100\n",
      "2513/2515 [============================>.] - ETA: 0s - loss: 0.3475 - accuracy: 0.8687\n",
      "Epoch 53: saving model to dermnet_m1.h5\n",
      "2515/2515 [==============================] - 122s 49ms/step - loss: 0.3476 - accuracy: 0.8687 - val_loss: 0.1365 - val_accuracy: 0.9565\n",
      "Epoch 54/100\n",
      "2514/2515 [============================>.] - ETA: 0s - loss: 0.3504 - accuracy: 0.8687\n",
      "Epoch 54: saving model to dermnet_m1.h5\n",
      "2515/2515 [==============================] - 124s 49ms/step - loss: 0.3505 - accuracy: 0.8687 - val_loss: 0.1355 - val_accuracy: 0.9535\n",
      "Epoch 55/100\n",
      "2514/2515 [============================>.] - ETA: 0s - loss: 0.3457 - accuracy: 0.8693\n",
      "Epoch 55: saving model to dermnet_m1.h5\n",
      "2515/2515 [==============================] - 120s 48ms/step - loss: 0.3456 - accuracy: 0.8693 - val_loss: 0.1441 - val_accuracy: 0.9499\n",
      "Epoch 56/100\n",
      "2515/2515 [==============================] - ETA: 0s - loss: 0.3430 - accuracy: 0.8706\n",
      "Epoch 56: saving model to dermnet_m1.h5\n",
      "2515/2515 [==============================] - 67s 27ms/step - loss: 0.3430 - accuracy: 0.8706 - val_loss: 0.1316 - val_accuracy: 0.9546\n",
      "Epoch 57/100\n",
      "2513/2515 [============================>.] - ETA: 0s - loss: 0.3428 - accuracy: 0.8693\n",
      "Epoch 57: saving model to dermnet_m1.h5\n",
      "2515/2515 [==============================] - 61s 24ms/step - loss: 0.3428 - accuracy: 0.8693 - val_loss: 0.1311 - val_accuracy: 0.9559\n",
      "Epoch 58/100\n",
      "2515/2515 [==============================] - ETA: 0s - loss: 0.3348 - accuracy: 0.8742\n",
      "Epoch 58: saving model to dermnet_m1.h5\n",
      "2515/2515 [==============================] - 61s 24ms/step - loss: 0.3348 - accuracy: 0.8742 - val_loss: 0.1351 - val_accuracy: 0.9534\n",
      "Epoch 59/100\n",
      "2513/2515 [============================>.] - ETA: 0s - loss: 0.3346 - accuracy: 0.8735\n",
      "Epoch 59: saving model to dermnet_m1.h5\n",
      "2515/2515 [==============================] - 62s 25ms/step - loss: 0.3346 - accuracy: 0.8735 - val_loss: 0.1291 - val_accuracy: 0.9595\n",
      "Epoch 60/100\n",
      "2515/2515 [==============================] - ETA: 0s - loss: 0.3304 - accuracy: 0.8752\n",
      "Epoch 60: saving model to dermnet_m1.h5\n",
      "2515/2515 [==============================] - 61s 24ms/step - loss: 0.3304 - accuracy: 0.8752 - val_loss: 0.1308 - val_accuracy: 0.9563\n",
      "Epoch 61/100\n",
      "2515/2515 [==============================] - ETA: 0s - loss: 0.3289 - accuracy: 0.8760\n",
      "Epoch 61: saving model to dermnet_m1.h5\n",
      "2515/2515 [==============================] - 61s 24ms/step - loss: 0.3289 - accuracy: 0.8760 - val_loss: 0.1341 - val_accuracy: 0.9549\n",
      "Epoch 62/100\n",
      "2513/2515 [============================>.] - ETA: 0s - loss: 0.3266 - accuracy: 0.8768\n",
      "Epoch 62: saving model to dermnet_m1.h5\n",
      "2515/2515 [==============================] - 61s 24ms/step - loss: 0.3266 - accuracy: 0.8767 - val_loss: 0.1283 - val_accuracy: 0.9574\n",
      "Epoch 63/100\n",
      "2515/2515 [==============================] - ETA: 0s - loss: 0.3270 - accuracy: 0.8766\n",
      "Epoch 63: saving model to dermnet_m1.h5\n",
      "2515/2515 [==============================] - 64s 25ms/step - loss: 0.3270 - accuracy: 0.8766 - val_loss: 0.1202 - val_accuracy: 0.9602\n",
      "Epoch 64/100\n",
      "2514/2515 [============================>.] - ETA: 0s - loss: 0.3228 - accuracy: 0.8779\n",
      "Epoch 64: saving model to dermnet_m1.h5\n",
      "2515/2515 [==============================] - 62s 25ms/step - loss: 0.3228 - accuracy: 0.8779 - val_loss: 0.1181 - val_accuracy: 0.9612\n",
      "Epoch 65/100\n",
      "2513/2515 [============================>.] - ETA: 0s - loss: 0.3250 - accuracy: 0.8781\n",
      "Epoch 65: saving model to dermnet_m1.h5\n",
      "2515/2515 [==============================] - 66s 26ms/step - loss: 0.3251 - accuracy: 0.8781 - val_loss: 0.1374 - val_accuracy: 0.9533\n",
      "Epoch 66/100\n",
      "2513/2515 [============================>.] - ETA: 0s - loss: 0.3225 - accuracy: 0.8783\n",
      "Epoch 66: saving model to dermnet_m1.h5\n",
      "2515/2515 [==============================] - 62s 25ms/step - loss: 0.3223 - accuracy: 0.8784 - val_loss: 0.1266 - val_accuracy: 0.9585\n",
      "Epoch 67/100\n",
      "2514/2515 [============================>.] - ETA: 0s - loss: 0.3177 - accuracy: 0.8808\n",
      "Epoch 67: saving model to dermnet_m1.h5\n",
      "2515/2515 [==============================] - 62s 25ms/step - loss: 0.3177 - accuracy: 0.8808 - val_loss: 0.1161 - val_accuracy: 0.9619\n",
      "Epoch 68/100\n",
      "2515/2515 [==============================] - ETA: 0s - loss: 0.3153 - accuracy: 0.8810\n",
      "Epoch 68: saving model to dermnet_m1.h5\n",
      "2515/2515 [==============================] - 62s 25ms/step - loss: 0.3153 - accuracy: 0.8810 - val_loss: 0.1262 - val_accuracy: 0.9589\n",
      "Epoch 69/100\n",
      "2513/2515 [============================>.] - ETA: 0s - loss: 0.3172 - accuracy: 0.8810\n",
      "Epoch 69: saving model to dermnet_m1.h5\n",
      "2515/2515 [==============================] - 62s 25ms/step - loss: 0.3173 - accuracy: 0.8810 - val_loss: 0.1138 - val_accuracy: 0.9657\n",
      "Epoch 70/100\n",
      "2513/2515 [============================>.] - ETA: 0s - loss: 0.3123 - accuracy: 0.8832\n",
      "Epoch 70: saving model to dermnet_m1.h5\n",
      "2515/2515 [==============================] - 62s 25ms/step - loss: 0.3124 - accuracy: 0.8831 - val_loss: 0.1184 - val_accuracy: 0.9606\n",
      "Epoch 71/100\n",
      "2515/2515 [==============================] - ETA: 0s - loss: 0.3125 - accuracy: 0.8821\n",
      "Epoch 71: saving model to dermnet_m1.h5\n",
      "2515/2515 [==============================] - 61s 24ms/step - loss: 0.3125 - accuracy: 0.8821 - val_loss: 0.1165 - val_accuracy: 0.9618\n",
      "Epoch 72/100\n",
      "2514/2515 [============================>.] - ETA: 0s - loss: 0.3069 - accuracy: 0.8852\n",
      "Epoch 72: saving model to dermnet_m1.h5\n",
      "2515/2515 [==============================] - 61s 24ms/step - loss: 0.3069 - accuracy: 0.8852 - val_loss: 0.1115 - val_accuracy: 0.9622\n",
      "Epoch 73/100\n",
      "2514/2515 [============================>.] - ETA: 0s - loss: 0.3069 - accuracy: 0.8847\n",
      "Epoch 73: saving model to dermnet_m1.h5\n",
      "2515/2515 [==============================] - 65s 26ms/step - loss: 0.3069 - accuracy: 0.8847 - val_loss: 0.1177 - val_accuracy: 0.9602\n",
      "Epoch 74/100\n",
      "2514/2515 [============================>.] - ETA: 0s - loss: 0.3057 - accuracy: 0.8858\n",
      "Epoch 74: saving model to dermnet_m1.h5\n",
      "2515/2515 [==============================] - 1385s 551ms/step - loss: 0.3057 - accuracy: 0.8858 - val_loss: 0.1163 - val_accuracy: 0.9615\n",
      "Epoch 75/100\n",
      "2514/2515 [============================>.] - ETA: 0s - loss: 0.3039 - accuracy: 0.8860\n",
      "Epoch 75: saving model to dermnet_m1.h5\n",
      "2515/2515 [==============================] - 68s 27ms/step - loss: 0.3039 - accuracy: 0.8860 - val_loss: 0.1210 - val_accuracy: 0.9612\n",
      "Epoch 76/100\n",
      "2514/2515 [============================>.] - ETA: 0s - loss: 0.3034 - accuracy: 0.8864\n",
      "Epoch 76: saving model to dermnet_m1.h5\n",
      "2515/2515 [==============================] - 63s 25ms/step - loss: 0.3034 - accuracy: 0.8864 - val_loss: 0.1154 - val_accuracy: 0.9632\n",
      "Epoch 77/100\n",
      "2513/2515 [============================>.] - ETA: 0s - loss: 0.3035 - accuracy: 0.8850\n",
      "Epoch 77: saving model to dermnet_m1.h5\n",
      "2515/2515 [==============================] - 63s 25ms/step - loss: 0.3035 - accuracy: 0.8850 - val_loss: 0.1090 - val_accuracy: 0.9644\n",
      "Epoch 78/100\n",
      "2513/2515 [============================>.] - ETA: 13s - loss: 0.3017 - accuracy: 0.8875\n",
      "Epoch 78: saving model to dermnet_m1.h5\n",
      "2515/2515 [==============================] - 16611s 7s/step - loss: 0.3018 - accuracy: 0.8875 - val_loss: 0.1090 - val_accuracy: 0.9652\n",
      "Epoch 79/100\n",
      "2514/2515 [============================>.] - ETA: 0s - loss: 0.2967 - accuracy: 0.8878\n",
      "Epoch 79: saving model to dermnet_m1.h5\n",
      "2515/2515 [==============================] - 74s 29ms/step - loss: 0.2967 - accuracy: 0.8878 - val_loss: 0.1086 - val_accuracy: 0.9650\n",
      "Epoch 80/100\n",
      "2513/2515 [============================>.] - ETA: 0s - loss: 0.2998 - accuracy: 0.8871\n",
      "Epoch 80: saving model to dermnet_m1.h5\n",
      "2515/2515 [==============================] - 85s 34ms/step - loss: 0.2999 - accuracy: 0.8871 - val_loss: 0.1072 - val_accuracy: 0.9651\n",
      "Epoch 81/100\n",
      "2515/2515 [==============================] - ETA: 0s - loss: 0.2966 - accuracy: 0.8882\n",
      "Epoch 81: saving model to dermnet_m1.h5\n",
      "2515/2515 [==============================] - 92s 37ms/step - loss: 0.2966 - accuracy: 0.8882 - val_loss: 0.1081 - val_accuracy: 0.9636\n",
      "Epoch 82/100\n",
      "2515/2515 [==============================] - ETA: 0s - loss: 0.2985 - accuracy: 0.8884\n",
      "Epoch 82: saving model to dermnet_m1.h5\n",
      "2515/2515 [==============================] - 115s 46ms/step - loss: 0.2985 - accuracy: 0.8884 - val_loss: 0.1172 - val_accuracy: 0.9620\n",
      "Epoch 83/100\n",
      "2514/2515 [============================>.] - ETA: 0s - loss: 0.2939 - accuracy: 0.8889\n",
      "Epoch 83: saving model to dermnet_m1.h5\n",
      "2515/2515 [==============================] - 121s 48ms/step - loss: 0.2938 - accuracy: 0.8889 - val_loss: 0.1089 - val_accuracy: 0.9650\n",
      "Epoch 84/100\n",
      "2515/2515 [==============================] - ETA: 0s - loss: 0.2938 - accuracy: 0.8895\n",
      "Epoch 84: saving model to dermnet_m1.h5\n",
      "2515/2515 [==============================] - 173s 69ms/step - loss: 0.2938 - accuracy: 0.8895 - val_loss: 0.1127 - val_accuracy: 0.9626\n",
      "Epoch 85/100\n",
      "2515/2515 [==============================] - ETA: 0s - loss: 0.2873 - accuracy: 0.8910\n",
      "Epoch 85: saving model to dermnet_m1.h5\n",
      "2515/2515 [==============================] - 151s 60ms/step - loss: 0.2873 - accuracy: 0.8910 - val_loss: 0.1067 - val_accuracy: 0.9636\n",
      "Epoch 86/100\n",
      "2514/2515 [============================>.] - ETA: 0s - loss: 0.2916 - accuracy: 0.8903\n",
      "Epoch 86: saving model to dermnet_m1.h5\n",
      "2515/2515 [==============================] - 143s 57ms/step - loss: 0.2916 - accuracy: 0.8903 - val_loss: 0.1066 - val_accuracy: 0.9663\n",
      "Epoch 87/100\n",
      "2515/2515 [==============================] - ETA: 0s - loss: 0.2856 - accuracy: 0.8938\n",
      "Epoch 87: saving model to dermnet_m1.h5\n",
      "2515/2515 [==============================] - 141s 56ms/step - loss: 0.2856 - accuracy: 0.8938 - val_loss: 0.1090 - val_accuracy: 0.9642\n",
      "Epoch 88/100\n",
      "2514/2515 [============================>.] - ETA: 0s - loss: 0.2874 - accuracy: 0.8920\n",
      "Epoch 88: saving model to dermnet_m1.h5\n",
      "2515/2515 [==============================] - 141s 56ms/step - loss: 0.2874 - accuracy: 0.8920 - val_loss: 0.1176 - val_accuracy: 0.9593\n",
      "Epoch 89/100\n",
      "2515/2515 [==============================] - ETA: 0s - loss: 0.2857 - accuracy: 0.8919\n",
      "Epoch 89: saving model to dermnet_m1.h5\n",
      "2515/2515 [==============================] - 153s 61ms/step - loss: 0.2857 - accuracy: 0.8919 - val_loss: 0.1075 - val_accuracy: 0.9641\n",
      "Epoch 90/100\n",
      "2514/2515 [============================>.] - ETA: 0s - loss: 0.2890 - accuracy: 0.8917\n",
      "Epoch 90: saving model to dermnet_m1.h5\n",
      "2515/2515 [==============================] - 142s 57ms/step - loss: 0.2890 - accuracy: 0.8917 - val_loss: 0.1069 - val_accuracy: 0.9672\n",
      "Epoch 91/100\n",
      "2515/2515 [==============================] - ETA: 0s - loss: 0.2823 - accuracy: 0.8937\n",
      "Epoch 91: saving model to dermnet_m1.h5\n",
      "2515/2515 [==============================] - 141s 56ms/step - loss: 0.2823 - accuracy: 0.8937 - val_loss: 0.1010 - val_accuracy: 0.9676\n",
      "Epoch 92/100\n",
      "2514/2515 [============================>.] - ETA: 0s - loss: 0.2801 - accuracy: 0.8952\n",
      "Epoch 92: saving model to dermnet_m1.h5\n",
      "2515/2515 [==============================] - 144s 57ms/step - loss: 0.2801 - accuracy: 0.8952 - val_loss: 0.1041 - val_accuracy: 0.9664\n",
      "Epoch 93/100\n",
      "2515/2515 [==============================] - ETA: 0s - loss: 0.2811 - accuracy: 0.8944\n",
      "Epoch 93: saving model to dermnet_m1.h5\n",
      "2515/2515 [==============================] - 163s 65ms/step - loss: 0.2811 - accuracy: 0.8944 - val_loss: 0.1077 - val_accuracy: 0.9640\n",
      "Epoch 94/100\n",
      "2514/2515 [============================>.] - ETA: 0s - loss: 0.2822 - accuracy: 0.8930\n",
      "Epoch 94: saving model to dermnet_m1.h5\n",
      "2515/2515 [==============================] - 216s 86ms/step - loss: 0.2822 - accuracy: 0.8930 - val_loss: 0.1090 - val_accuracy: 0.9649\n",
      "Epoch 95/100\n",
      "2515/2515 [==============================] - ETA: 0s - loss: 0.2794 - accuracy: 0.8955\n",
      "Epoch 95: saving model to dermnet_m1.h5\n",
      "2515/2515 [==============================] - 166s 66ms/step - loss: 0.2794 - accuracy: 0.8955 - val_loss: 0.1018 - val_accuracy: 0.9660\n",
      "Epoch 96/100\n",
      "2515/2515 [==============================] - ETA: 0s - loss: 0.2837 - accuracy: 0.8935\n",
      "Epoch 96: saving model to dermnet_m1.h5\n",
      "2515/2515 [==============================] - 163s 65ms/step - loss: 0.2837 - accuracy: 0.8935 - val_loss: 0.1055 - val_accuracy: 0.9666\n",
      "Epoch 97/100\n",
      "2515/2515 [==============================] - ETA: 0s - loss: 0.2743 - accuracy: 0.8966\n",
      "Epoch 97: saving model to dermnet_m1.h5\n",
      "2515/2515 [==============================] - 161s 64ms/step - loss: 0.2743 - accuracy: 0.8966 - val_loss: 0.1002 - val_accuracy: 0.9675\n",
      "Epoch 98/100\n",
      "2514/2515 [============================>.] - ETA: 0s - loss: 0.2725 - accuracy: 0.8967"
     ]
    }
   ],
   "source": [
    "# Train the model\n",
    "history = model.fit(Xtrain,\n",
    "                    Ytrain,\n",
    "                    epochs=100,\n",
    "                    validation_data=(Xtest, Ytest),\n",
    "                    callbacks=[callback, early_stopping])"
   ]
  },
  {
   "cell_type": "code",
   "execution_count": null,
   "metadata": {
    "id": "GqMGWoa86uhZ"
   },
   "outputs": [
    {
     "name": "stdout",
     "output_type": "stream",
     "text": [
      "2682/2682 [==============================] - 28s 10ms/step - loss: 0.0754 - accuracy: 0.9766\n",
      "671/671 [==============================] - 7s 11ms/step - loss: 0.1018 - accuracy: 0.9665\n"
     ]
    },
    {
     "data": {
      "text/plain": [
       "[0.10177399218082428, 0.9664895534515381]"
      ]
     },
     "execution_count": 17,
     "metadata": {},
     "output_type": "execute_result"
    }
   ],
   "source": [
    "# Evaluate the model\n",
    "model.evaluate(Xtrain, Ytrain)\n",
    "model.evaluate(Xtest, Ytest)"
   ]
  },
  {
   "cell_type": "code",
   "execution_count": null,
   "metadata": {
    "id": "1zSvgqTz6yu-"
   },
   "outputs": [],
   "source": [
    "# Plot loss over epochs\n",
    "history_dict = history.history\n",
    "loss_values = history_dict['loss']\n",
    "val_loss_values = history_dict['val_loss']\n",
    "epochs = range(1, len(loss_values) + 1)"
   ]
  },
  {
   "cell_type": "code",
   "execution_count": null,
   "metadata": {
    "id": "sJQSgC0i60K5"
   },
   "outputs": [
    {
     "data": {
      "image/png": "[encoded data removed]",
      "text/plain": [
       "<Figure size 640x480 with 1 Axes>"
      ]
     },
     "metadata": {},
     "output_type": "display_data"
    }
   ],
   "source": [
    "plt.plot(epochs, val_loss_values, label='Validation/Test Loss')\n",
    "plt.plot(epochs, loss_values, label='Training Loss')\n",
    "plt.xlabel('Epochs')\n",
    "plt.ylabel('Loss')\n",
    "plt.legend()\n",
    "plt.grid(True)\n",
    "plt.show()"
   ]
  },
  {
   "cell_type": "code",
   "execution_count": null,
   "metadata": {
    "id": "leVp7w6T614F"
   },
   "outputs": [],
   "source": [
    "# Plot accuracy over epochs\n",
    "acc_values = history_dict['accuracy']\n",
    "val_acc_values = history_dict['val_accuracy']"
   ]
  },
  {
   "cell_type": "code",
   "execution_count": null,
   "metadata": {
    "id": "nTEhBgUQ6Sng"
   },
   "outputs": [
    {
     "data": {
      "image/png": "[encoded data removed]",
      "text/plain": [
       "<Figure size 640x480 with 1 Axes>"
      ]
     },
     "metadata": {},
     "output_type": "display_data"
    }
   ],
   "source": [
    "plt.plot(epochs, val_acc_values, label='Validation/Test Accuracy')\n",
    "plt.plot(epochs, acc_values, label='Training Accuracy')\n",
    "plt.xlabel('Epochs')\n",
    "plt.ylabel('Accuracy')\n",
    "plt.legend()\n",
    "plt.grid(True)\n",
    "plt.show()"
   ]
  },
  {
   "cell_type": "code",
   "execution_count": null,
   "metadata": {},
   "outputs": [
    {
     "name": "stdout",
     "output_type": "stream",
     "text": [
      "2682/2682 [==============================] - 31s 11ms/step - loss: 0.0754 - accuracy: 0.9766\n",
      "671/671 [==============================] - 7s 11ms/step - loss: 0.1018 - accuracy: 0.9665\n"
     ]
    }
   ],
   "source": [
    "# Evaluate the model\n",
    "train_loss, train_accuracy = model.evaluate(Xtrain, Ytrain)\n",
    "test_loss, test_accuracy = model.evaluate(Xtest, Ytest)"
   ]
  },
  {
   "cell_type": "code",
   "execution_count": null,
   "metadata": {},
   "outputs": [
    {
     "name": "stdout",
     "output_type": "stream",
     "text": [
      "2682/2682 [==============================] - 31s 11ms/step\n",
      "671/671 [==============================] - 7s 11ms/step\n"
     ]
    }
   ],
   "source": [
    "# Predictions\n",
    "y_pred_train_probs = model.predict(Xtrain)\n",
    "y_pred_test_probs = model.predict(Xtest)"
   ]
  },
  {
   "cell_type": "code",
   "execution_count": null,
   "metadata": {},
   "outputs": [],
   "source": [
    "# Convert probabilities to class labels\n",
    "y_pred_train = np.argmax(y_pred_train_probs, axis=1)\n",
    "y_pred_test = np.argmax(y_pred_test_probs, axis=1)"
   ]
  },
  {
   "cell_type": "code",
   "execution_count": null,
   "metadata": {},
   "outputs": [],
   "source": []
  },
  {
   "cell_type": "code",
   "execution_count": null,
   "metadata": {},
   "outputs": [],
   "source": [
    "# Calculate F1-score\n",
    "train_f1 = f1_score(Ytrain, y_pred_train, average='macro')\n",
    "test_f1 = f1_score(Ytest, y_pred_test, average='macro')"
   ]
  },
  {
   "cell_type": "code",
   "execution_count": null,
   "metadata": {},
   "outputs": [
    {
     "name": "stdout",
     "output_type": "stream",
     "text": [
      "Train Loss: 0.0754416286945343\n",
      "Train Accuracy: 0.9766032695770264\n",
      "Train F1-score: 0.9762426014398596\n"
     ]
    }
   ],
   "source": [
    "print(\"Train Loss:\", train_loss)\n",
    "print(\"Train Accuracy:\", train_accuracy)\n",
    "print(\"Train F1-score:\", train_f1)"
   ]
  },
  {
   "cell_type": "code",
   "execution_count": null,
   "metadata": {},
   "outputs": [
    {
     "name": "stdout",
     "output_type": "stream",
     "text": [
      "Test Loss: 0.10177399218082428\n",
      "Test Accuracy: 0.9664895534515381\n",
      "Test F1-score: 0.9657811720074629\n"
     ]
    }
   ],
   "source": [
    "print(\"Test Loss:\", test_loss)\n",
    "print(\"Test Accuracy:\", test_accuracy)\n",
    "print(\"Test F1-score:\", test_f1)"
   ]
  }
 ],
 "metadata": {
  "colab": {
   "provenance": []
  },
  "kernelspec": {
   "display_name": "Python 3 (ipykernel)",
   "language": "python",
   "name": "python3"
  },
  "language_info": {
   "codemirror_mode": {
    "name": "ipython",
    "version": 3
   },
   "file_extension": ".py",
   "mimetype": "text/x-python",
   "name": "python",
   "nbconvert_exporter": "python",
   "pygments_lexer": "ipython3",
   "version": "3.10.5"
  }
 },
 "nbformat": 4,
 "nbformat_minor": 4
}
