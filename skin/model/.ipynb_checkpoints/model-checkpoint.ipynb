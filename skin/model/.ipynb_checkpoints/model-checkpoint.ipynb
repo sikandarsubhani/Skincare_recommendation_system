{
 "cells": [
  {
   "cell_type": "code",
   "execution_count": 16,
   "metadata": {
    "_cell_guid": "b1076dfc-b9ad-4769-8c92-a6c4dae69d19",
    "_uuid": "8f2839f25d086af736a60e9eeb907d3b93b6e0e5"
   },
   "outputs": [],
   "source": [
    "\n",
    "import numpy as np \n",
    "import pandas as pd \n"
   ]
  },
  {
   "cell_type": "markdown",
   "metadata": {},
   "source": [
    "# Data Loading"
   ]
  },
  {
   "cell_type": "code",
   "execution_count": 17,
   "metadata": {},
   "outputs": [],
   "source": [
    "data = pd.read_csv(\"C:/Users/navee/Desktop/sikandar/FYP/ham10000/DATASET/hmnist_28_28_RGB.csv\")"
   ]
  },
  {
   "cell_type": "code",
   "execution_count": 18,
   "metadata": {},
   "outputs": [
    {
     "data": {
      "text/html": [
       "<div>\n",
       "<style scoped>\n",
       "    .dataframe tbody tr th:only-of-type {\n",
       "        vertical-align: middle;\n",
       "    }\n",
       "\n",
       "    .dataframe tbody tr th {\n",
       "        vertical-align: top;\n",
       "    }\n",
       "\n",
       "    .dataframe thead th {\n",
       "        text-align: right;\n",
       "    }\n",
       "</style>\n",
       "<table border=\"1\" class=\"dataframe\">\n",
       "  <thead>\n",
       "    <tr style=\"text-align: right;\">\n",
       "      <th></th>\n",
       "      <th>pixel0000</th>\n",
       "      <th>pixel0001</th>\n",
       "      <th>pixel0002</th>\n",
       "      <th>pixel0003</th>\n",
       "      <th>pixel0004</th>\n",
       "      <th>pixel0005</th>\n",
       "      <th>pixel0006</th>\n",
       "      <th>pixel0007</th>\n",
       "      <th>pixel0008</th>\n",
       "      <th>pixel0009</th>\n",
       "      <th>...</th>\n",
       "      <th>pixel2343</th>\n",
       "      <th>pixel2344</th>\n",
       "      <th>pixel2345</th>\n",
       "      <th>pixel2346</th>\n",
       "      <th>pixel2347</th>\n",
       "      <th>pixel2348</th>\n",
       "      <th>pixel2349</th>\n",
       "      <th>pixel2350</th>\n",
       "      <th>pixel2351</th>\n",
       "      <th>label</th>\n",
       "    </tr>\n",
       "  </thead>\n",
       "  <tbody>\n",
       "    <tr>\n",
       "      <th>0</th>\n",
       "      <td>192</td>\n",
       "      <td>153</td>\n",
       "      <td>193</td>\n",
       "      <td>195</td>\n",
       "      <td>155</td>\n",
       "      <td>192</td>\n",
       "      <td>197</td>\n",
       "      <td>154</td>\n",
       "      <td>185</td>\n",
       "      <td>202</td>\n",
       "      <td>...</td>\n",
       "      <td>173</td>\n",
       "      <td>124</td>\n",
       "      <td>138</td>\n",
       "      <td>183</td>\n",
       "      <td>147</td>\n",
       "      <td>166</td>\n",
       "      <td>185</td>\n",
       "      <td>154</td>\n",
       "      <td>177</td>\n",
       "      <td>2</td>\n",
       "    </tr>\n",
       "    <tr>\n",
       "      <th>1</th>\n",
       "      <td>25</td>\n",
       "      <td>14</td>\n",
       "      <td>30</td>\n",
       "      <td>68</td>\n",
       "      <td>48</td>\n",
       "      <td>75</td>\n",
       "      <td>123</td>\n",
       "      <td>93</td>\n",
       "      <td>126</td>\n",
       "      <td>158</td>\n",
       "      <td>...</td>\n",
       "      <td>60</td>\n",
       "      <td>39</td>\n",
       "      <td>55</td>\n",
       "      <td>25</td>\n",
       "      <td>14</td>\n",
       "      <td>28</td>\n",
       "      <td>25</td>\n",
       "      <td>14</td>\n",
       "      <td>27</td>\n",
       "      <td>2</td>\n",
       "    </tr>\n",
       "    <tr>\n",
       "      <th>2</th>\n",
       "      <td>192</td>\n",
       "      <td>138</td>\n",
       "      <td>153</td>\n",
       "      <td>200</td>\n",
       "      <td>145</td>\n",
       "      <td>163</td>\n",
       "      <td>201</td>\n",
       "      <td>142</td>\n",
       "      <td>160</td>\n",
       "      <td>206</td>\n",
       "      <td>...</td>\n",
       "      <td>167</td>\n",
       "      <td>129</td>\n",
       "      <td>143</td>\n",
       "      <td>159</td>\n",
       "      <td>124</td>\n",
       "      <td>142</td>\n",
       "      <td>136</td>\n",
       "      <td>104</td>\n",
       "      <td>117</td>\n",
       "      <td>2</td>\n",
       "    </tr>\n",
       "    <tr>\n",
       "      <th>3</th>\n",
       "      <td>38</td>\n",
       "      <td>19</td>\n",
       "      <td>30</td>\n",
       "      <td>95</td>\n",
       "      <td>59</td>\n",
       "      <td>72</td>\n",
       "      <td>143</td>\n",
       "      <td>103</td>\n",
       "      <td>119</td>\n",
       "      <td>171</td>\n",
       "      <td>...</td>\n",
       "      <td>44</td>\n",
       "      <td>26</td>\n",
       "      <td>36</td>\n",
       "      <td>25</td>\n",
       "      <td>12</td>\n",
       "      <td>17</td>\n",
       "      <td>25</td>\n",
       "      <td>12</td>\n",
       "      <td>15</td>\n",
       "      <td>2</td>\n",
       "    </tr>\n",
       "    <tr>\n",
       "      <th>4</th>\n",
       "      <td>158</td>\n",
       "      <td>113</td>\n",
       "      <td>139</td>\n",
       "      <td>194</td>\n",
       "      <td>144</td>\n",
       "      <td>174</td>\n",
       "      <td>215</td>\n",
       "      <td>162</td>\n",
       "      <td>191</td>\n",
       "      <td>225</td>\n",
       "      <td>...</td>\n",
       "      <td>209</td>\n",
       "      <td>166</td>\n",
       "      <td>185</td>\n",
       "      <td>172</td>\n",
       "      <td>135</td>\n",
       "      <td>149</td>\n",
       "      <td>109</td>\n",
       "      <td>78</td>\n",
       "      <td>92</td>\n",
       "      <td>2</td>\n",
       "    </tr>\n",
       "  </tbody>\n",
       "</table>\n",
       "<p>5 rows × 2353 columns</p>\n",
       "</div>"
      ],
      "text/plain": [
       "   pixel0000  pixel0001  pixel0002  pixel0003  pixel0004  pixel0005  \\\n",
       "0        192        153        193        195        155        192   \n",
       "1         25         14         30         68         48         75   \n",
       "2        192        138        153        200        145        163   \n",
       "3         38         19         30         95         59         72   \n",
       "4        158        113        139        194        144        174   \n",
       "\n",
       "   pixel0006  pixel0007  pixel0008  pixel0009  ...  pixel2343  pixel2344  \\\n",
       "0        197        154        185        202  ...        173        124   \n",
       "1        123         93        126        158  ...         60         39   \n",
       "2        201        142        160        206  ...        167        129   \n",
       "3        143        103        119        171  ...         44         26   \n",
       "4        215        162        191        225  ...        209        166   \n",
       "\n",
       "   pixel2345  pixel2346  pixel2347  pixel2348  pixel2349  pixel2350  \\\n",
       "0        138        183        147        166        185        154   \n",
       "1         55         25         14         28         25         14   \n",
       "2        143        159        124        142        136        104   \n",
       "3         36         25         12         17         25         12   \n",
       "4        185        172        135        149        109         78   \n",
       "\n",
       "   pixel2351  label  \n",
       "0        177      2  \n",
       "1         27      2  \n",
       "2        117      2  \n",
       "3         15      2  \n",
       "4         92      2  \n",
       "\n",
       "[5 rows x 2353 columns]"
      ]
     },
     "execution_count": 18,
     "metadata": {},
     "output_type": "execute_result"
    }
   ],
   "source": [
    "data.head()"
   ]
  },
  {
   "cell_type": "code",
   "execution_count": 19,
   "metadata": {},
   "outputs": [
    {
     "data": {
      "text/html": [
       "<div>\n",
       "<style scoped>\n",
       "    .dataframe tbody tr th:only-of-type {\n",
       "        vertical-align: middle;\n",
       "    }\n",
       "\n",
       "    .dataframe tbody tr th {\n",
       "        vertical-align: top;\n",
       "    }\n",
       "\n",
       "    .dataframe thead th {\n",
       "        text-align: right;\n",
       "    }\n",
       "</style>\n",
       "<table border=\"1\" class=\"dataframe\">\n",
       "  <thead>\n",
       "    <tr style=\"text-align: right;\">\n",
       "      <th></th>\n",
       "      <th>lesion_id</th>\n",
       "      <th>image_id</th>\n",
       "      <th>dx</th>\n",
       "      <th>dx_type</th>\n",
       "      <th>age</th>\n",
       "      <th>sex</th>\n",
       "      <th>localization</th>\n",
       "    </tr>\n",
       "  </thead>\n",
       "  <tbody>\n",
       "    <tr>\n",
       "      <th>0</th>\n",
       "      <td>HAM_0000118</td>\n",
       "      <td>ISIC_0027419</td>\n",
       "      <td>bkl</td>\n",
       "      <td>histo</td>\n",
       "      <td>80.0</td>\n",
       "      <td>male</td>\n",
       "      <td>scalp</td>\n",
       "    </tr>\n",
       "    <tr>\n",
       "      <th>1</th>\n",
       "      <td>HAM_0000118</td>\n",
       "      <td>ISIC_0025030</td>\n",
       "      <td>bkl</td>\n",
       "      <td>histo</td>\n",
       "      <td>80.0</td>\n",
       "      <td>male</td>\n",
       "      <td>scalp</td>\n",
       "    </tr>\n",
       "    <tr>\n",
       "      <th>2</th>\n",
       "      <td>HAM_0002730</td>\n",
       "      <td>ISIC_0026769</td>\n",
       "      <td>bkl</td>\n",
       "      <td>histo</td>\n",
       "      <td>80.0</td>\n",
       "      <td>male</td>\n",
       "      <td>scalp</td>\n",
       "    </tr>\n",
       "    <tr>\n",
       "      <th>3</th>\n",
       "      <td>HAM_0002730</td>\n",
       "      <td>ISIC_0025661</td>\n",
       "      <td>bkl</td>\n",
       "      <td>histo</td>\n",
       "      <td>80.0</td>\n",
       "      <td>male</td>\n",
       "      <td>scalp</td>\n",
       "    </tr>\n",
       "    <tr>\n",
       "      <th>4</th>\n",
       "      <td>HAM_0001466</td>\n",
       "      <td>ISIC_0031633</td>\n",
       "      <td>bkl</td>\n",
       "      <td>histo</td>\n",
       "      <td>75.0</td>\n",
       "      <td>male</td>\n",
       "      <td>ear</td>\n",
       "    </tr>\n",
       "  </tbody>\n",
       "</table>\n",
       "</div>"
      ],
      "text/plain": [
       "     lesion_id      image_id   dx dx_type   age   sex localization\n",
       "0  HAM_0000118  ISIC_0027419  bkl   histo  80.0  male        scalp\n",
       "1  HAM_0000118  ISIC_0025030  bkl   histo  80.0  male        scalp\n",
       "2  HAM_0002730  ISIC_0026769  bkl   histo  80.0  male        scalp\n",
       "3  HAM_0002730  ISIC_0025661  bkl   histo  80.0  male        scalp\n",
       "4  HAM_0001466  ISIC_0031633  bkl   histo  75.0  male          ear"
      ]
     },
     "execution_count": 19,
     "metadata": {},
     "output_type": "execute_result"
    }
   ],
   "source": [
    "meta_df = pd.read_csv(\"C:/Users/navee/Desktop/sikandar/FYP/ham10000/DATASET/HAM10000_metadata.csv\")\n",
    "meta_df.head()"
   ]
  },
  {
   "cell_type": "code",
   "execution_count": 20,
   "metadata": {},
   "outputs": [
    {
     "data": {
      "text/plain": [
       "(10015, 7)"
      ]
     },
     "execution_count": 20,
     "metadata": {},
     "output_type": "execute_result"
    }
   ],
   "source": [
    "meta_df.shape"
   ]
  },
  {
   "cell_type": "code",
   "execution_count": 21,
   "metadata": {},
   "outputs": [
    {
     "data": {
      "text/plain": [
       "(10015, 2353)"
      ]
     },
     "execution_count": 21,
     "metadata": {},
     "output_type": "execute_result"
    }
   ],
   "source": [
    "data.shape"
   ]
  },
  {
   "cell_type": "code",
   "execution_count": 22,
   "metadata": {},
   "outputs": [],
   "source": [
    "yData = data['label']\n",
    "XData = data.drop(columns = ['label'])"
   ]
  },
  {
   "cell_type": "markdown",
   "metadata": {},
   "source": [
    "# EDA"
   ]
  },
  {
   "cell_type": "code",
   "execution_count": 23,
   "metadata": {},
   "outputs": [
    {
     "data": {
      "text/plain": [
       "nv       6705\n",
       "mel      1113\n",
       "bkl      1099\n",
       "bcc       514\n",
       "akiec     327\n",
       "vasc      142\n",
       "df        115\n",
       "Name: dx, dtype: int64"
      ]
     },
     "execution_count": 23,
     "metadata": {},
     "output_type": "execute_result"
    }
   ],
   "source": [
    "distribution = meta_df['dx'].value_counts()\n",
    "distribution"
   ]
  },
  {
   "cell_type": "code",
   "execution_count": 24,
   "metadata": {},
   "outputs": [],
   "source": [
    "# classes = {4: ('nv', ' melanocytic nevi'),\n",
    "#            6: ('mel', 'melanoma'),\n",
    "#            2 :('bkl', 'benign keratosis-like lesions'), \n",
    "#            1:('bcc' , ' basal cell carcinoma'),\n",
    "#            5: ('vasc', ' pyogenic granulomas and hemorrhage'),\n",
    "#            0: ('akiec', 'Actinic keratoses and intraepithelial carcinomae'),\n",
    "#            3: ('df', 'dermatofibroma')}"
   ]
  },
  {
   "cell_type": "code",
   "execution_count": 25,
   "metadata": {},
   "outputs": [
    {
     "data": {
      "text/plain": [
       "4    6705\n",
       "6    1113\n",
       "2    1099\n",
       "1     514\n",
       "0     327\n",
       "5     142\n",
       "3     115\n",
       "Name: label, dtype: int64"
      ]
     },
     "execution_count": 25,
     "metadata": {},
     "output_type": "execute_result"
    }
   ],
   "source": [
    "dist = data['label'].value_counts()\n",
    "dist"
   ]
  },
  {
   "cell_type": "markdown",
   "metadata": {},
   "source": [
    "**There's alot of data imbalance**"
   ]
  },
  {
   "cell_type": "code",
   "execution_count": 26,
   "metadata": {},
   "outputs": [
    {
     "data": {
      "text/plain": [
       "<Axes: >"
      ]
     },
     "execution_count": 26,
     "metadata": {},
     "output_type": "execute_result"
    },
    {
     "data": {
      "image/png": "[encoded data removed]",
      "text/plain": [
       "<Figure size 640x480 with 1 Axes>"
      ]
     },
     "metadata": {},
     "output_type": "display_data"
    }
   ],
   "source": [
    "distribution.plot()"
   ]
  },
  {
   "cell_type": "markdown",
   "metadata": {},
   "source": [
    "# Fixing Data Imbalance\n",
    "\n",
    "* **over sample the dateset using Random Over Sampler**"
   ]
  },
  {
   "cell_type": "code",
   "execution_count": 28,
   "metadata": {},
   "outputs": [],
   "source": [
    "from imblearn.over_sampling import RandomOverSampler "
   ]
  },
  {
   "cell_type": "code",
   "execution_count": 29,
   "metadata": {},
   "outputs": [],
   "source": [
    "sampler = RandomOverSampler()\n",
    "XData,yData  = sampler.fit_resample(XData,yData)"
   ]
  },
  {
   "cell_type": "code",
   "execution_count": 30,
   "metadata": {},
   "outputs": [
    {
     "data": {
      "text/plain": [
       "((46935, 2352), (46935,))"
      ]
     },
     "execution_count": 30,
     "metadata": {},
     "output_type": "execute_result"
    }
   ],
   "source": [
    "XData.shape, yData.shape"
   ]
  },
  {
   "cell_type": "code",
   "execution_count": 31,
   "metadata": {},
   "outputs": [
    {
     "data": {
      "text/plain": [
       "(46935, 28, 28, 3)"
      ]
     },
     "execution_count": 31,
     "metadata": {},
     "output_type": "execute_result"
    }
   ],
   "source": [
    "XData = np.array(XData).reshape((-1, 28, 28, 3))\n",
    "XData = XData / 255\n",
    "XData.shape"
   ]
  },
  {
   "cell_type": "markdown",
   "metadata": {},
   "source": [
    "# Create the train and validation set"
   ]
  },
  {
   "cell_type": "code",
   "execution_count": 32,
   "metadata": {},
   "outputs": [],
   "source": [
    "from sklearn.model_selection import train_test_split"
   ]
  },
  {
   "cell_type": "code",
   "execution_count": 33,
   "metadata": {},
   "outputs": [],
   "source": [
    "Xtrain, Xtest, Ytrain, Ytest = train_test_split(XData,yData, test_size=0.2)"
   ]
  },
  {
   "cell_type": "code",
   "execution_count": 34,
   "metadata": {},
   "outputs": [
    {
     "data": {
      "text/plain": [
       "((37548, 28, 28, 3), (9387, 28, 28, 3))"
      ]
     },
     "execution_count": 34,
     "metadata": {},
     "output_type": "execute_result"
    }
   ],
   "source": [
    "Xtrain.shape, Xtest.shape"
   ]
  },
  {
   "cell_type": "code",
   "execution_count": null,
   "metadata": {},
   "outputs": [],
   "source": []
  },
  {
   "cell_type": "markdown",
   "metadata": {},
   "source": [
    "# Train the model"
   ]
  },
  {
   "cell_type": "code",
   "execution_count": 35,
   "metadata": {},
   "outputs": [],
   "source": [
    "from keras.models import Sequential\n",
    "from keras.layers import Conv2D, MaxPooling2D\n",
    "from keras.layers import Activation, Dropout, Flatten, Dense\n",
    "import tensorflow as tf\n",
    "\n",
    "img_width, img_height = 28,28\n"
   ]
  },
  {
   "cell_type": "code",
   "execution_count": 36,
   "metadata": {},
   "outputs": [],
   "source": [
    "input_shape = (img_width, img_height, 3)"
   ]
  },
  {
   "cell_type": "code",
   "execution_count": 37,
   "metadata": {},
   "outputs": [],
   "source": [
    "model = Sequential()\n",
    "model.add(Conv2D(32, (2, 2), input_shape=input_shape))\n",
    "model.add(Activation('swish'))\n",
    "model.add(MaxPooling2D(pool_size=(2, 2)))\n",
    "\n",
    "model.add(Conv2D(32, (2, 2)))\n",
    "model.add(Activation('swish'))\n",
    "model.add(MaxPooling2D(pool_size=(2, 2)))\n",
    "\n",
    "model.add(Conv2D(64, (2, 2)))\n",
    "model.add(Activation('swish'))\n",
    "model.add(MaxPooling2D(pool_size=(2, 2)))\n",
    "\n",
    "model.add(Flatten())\n",
    "model.add(Dense(64))\n",
    "model.add(Activation('swish'))\n",
    "model.add(Dropout(0.5))\n",
    "model.add(Dense(7))\n",
    "model.add(Activation('softmax'))\n"
   ]
  },
  {
   "cell_type": "code",
   "execution_count": 38,
   "metadata": {},
   "outputs": [],
   "source": [
    "model.compile(loss='sparse_categorical_crossentropy',\n",
    "optimizer='nadam',\n",
    "metrics=['accuracy'])\n"
   ]
  },
  {
   "cell_type": "code",
   "execution_count": 39,
   "metadata": {},
   "outputs": [],
   "source": [
    "callback = tf.keras.callbacks.ModelCheckpoint(filepath='skin.h5',\n",
    "                                                  monitor='val_acc', mode='max',\n",
    "                                                 verbose=1)\n",
    "\n",
    "early_stopping = tf.keras.callbacks.EarlyStopping(patience=10, restore_best_weights=True)"
   ]
  },
  {
   "cell_type": "code",
   "execution_count": 40,
   "metadata": {},
   "outputs": [
    {
     "name": "stdout",
     "output_type": "stream",
     "text": [
      "Epoch 1/100\n",
      "1172/1174 [============================>.] - ETA: 0s - loss: 1.3754 - accuracy: 0.4553\n",
      "Epoch 1: saving model to skin.h5\n",
      "1174/1174 [==============================] - 32s 25ms/step - loss: 1.3749 - accuracy: 0.4556 - val_loss: 1.0853 - val_accuracy: 0.5867\n",
      "Epoch 2/100\n",
      "   1/1174 [..............................] - ETA: 37s - loss: 1.2819 - accuracy: 0.5312"
     ]
    },
    {
     "name": "stderr",
     "output_type": "stream",
     "text": [
      "C:\\Users\\navee\\AppData\\Local\\Programs\\Python\\Python310\\lib\\site-packages\\keras\\src\\engine\\training.py:3079: UserWarning: You are saving your model as an HDF5 file via `model.save()`. This file format is considered legacy. We recommend using instead the native Keras format, e.g. `model.save('my_model.keras')`.\n",
      "  saving_api.save_model(\n"
     ]
    },
    {
     "name": "stdout",
     "output_type": "stream",
     "text": [
      "1173/1174 [============================>.] - ETA: 0s - loss: 1.0390 - accuracy: 0.6009\n",
      "Epoch 2: saving model to skin.h5\n",
      "1174/1174 [==============================] - 28s 24ms/step - loss: 1.0392 - accuracy: 0.6009 - val_loss: 0.8795 - val_accuracy: 0.6596\n",
      "Epoch 3/100\n",
      "1174/1174 [==============================] - ETA: 0s - loss: 0.8830 - accuracy: 0.6646\n",
      "Epoch 3: saving model to skin.h5\n",
      "1174/1174 [==============================] - 29s 24ms/step - loss: 0.8830 - accuracy: 0.6646 - val_loss: 0.7535 - val_accuracy: 0.7190\n",
      "Epoch 4/100\n",
      "1174/1174 [==============================] - ETA: 0s - loss: 0.7668 - accuracy: 0.7062\n",
      "Epoch 4: saving model to skin.h5\n",
      "1174/1174 [==============================] - 31s 26ms/step - loss: 0.7668 - accuracy: 0.7062 - val_loss: 0.6517 - val_accuracy: 0.7458\n",
      "Epoch 5/100\n",
      "1173/1174 [============================>.] - ETA: 0s - loss: 0.6929 - accuracy: 0.7359\n",
      "Epoch 5: saving model to skin.h5\n",
      "1174/1174 [==============================] - 31s 26ms/step - loss: 0.6928 - accuracy: 0.7360 - val_loss: 0.5942 - val_accuracy: 0.7765\n",
      "Epoch 6/100\n",
      "1174/1174 [==============================] - ETA: 0s - loss: 0.6325 - accuracy: 0.7591\n",
      "Epoch 6: saving model to skin.h5\n",
      "1174/1174 [==============================] - 30s 26ms/step - loss: 0.6325 - accuracy: 0.7591 - val_loss: 0.5400 - val_accuracy: 0.7876\n",
      "Epoch 7/100\n",
      "1172/1174 [============================>.] - ETA: 0s - loss: 0.5794 - accuracy: 0.7797\n",
      "Epoch 7: saving model to skin.h5\n",
      "1174/1174 [==============================] - 32s 27ms/step - loss: 0.5793 - accuracy: 0.7798 - val_loss: 0.4845 - val_accuracy: 0.8156\n",
      "Epoch 8/100\n",
      "1173/1174 [============================>.] - ETA: 0s - loss: 0.5368 - accuracy: 0.7971\n",
      "Epoch 8: saving model to skin.h5\n",
      "1174/1174 [==============================] - 31s 26ms/step - loss: 0.5368 - accuracy: 0.7971 - val_loss: 0.4463 - val_accuracy: 0.8271\n",
      "Epoch 9/100\n",
      "1173/1174 [============================>.] - ETA: 0s - loss: 0.5026 - accuracy: 0.8080\n",
      "Epoch 9: saving model to skin.h5\n",
      "1174/1174 [==============================] - 33s 28ms/step - loss: 0.5027 - accuracy: 0.8080 - val_loss: 0.4050 - val_accuracy: 0.8505\n",
      "Epoch 10/100\n",
      "1172/1174 [============================>.] - ETA: 0s - loss: 0.4615 - accuracy: 0.8248\n",
      "Epoch 10: saving model to skin.h5\n",
      "1174/1174 [==============================] - 47s 40ms/step - loss: 0.4615 - accuracy: 0.8248 - val_loss: 0.3978 - val_accuracy: 0.8468\n",
      "Epoch 11/100\n",
      "1172/1174 [============================>.] - ETA: 0s - loss: 0.4351 - accuracy: 0.8348\n",
      "Epoch 11: saving model to skin.h5\n",
      "1174/1174 [==============================] - 38s 32ms/step - loss: 0.4350 - accuracy: 0.8348 - val_loss: 0.3395 - val_accuracy: 0.8690\n",
      "Epoch 12/100\n",
      "1173/1174 [============================>.] - ETA: 0s - loss: 0.4043 - accuracy: 0.8443\n",
      "Epoch 12: saving model to skin.h5\n",
      "1174/1174 [==============================] - 36s 31ms/step - loss: 0.4042 - accuracy: 0.8443 - val_loss: 0.3257 - val_accuracy: 0.8780\n",
      "Epoch 13/100\n",
      "1173/1174 [============================>.] - ETA: 0s - loss: 0.3776 - accuracy: 0.8556\n",
      "Epoch 13: saving model to skin.h5\n",
      "1174/1174 [==============================] - 35s 30ms/step - loss: 0.3776 - accuracy: 0.8556 - val_loss: 0.3075 - val_accuracy: 0.8856\n",
      "Epoch 14/100\n",
      "1172/1174 [============================>.] - ETA: 0s - loss: 0.3603 - accuracy: 0.8630\n",
      "Epoch 14: saving model to skin.h5\n",
      "1174/1174 [==============================] - 36s 30ms/step - loss: 0.3603 - accuracy: 0.8631 - val_loss: 0.2704 - val_accuracy: 0.8942\n",
      "Epoch 15/100\n",
      "1173/1174 [============================>.] - ETA: 0s - loss: 0.3336 - accuracy: 0.8728\n",
      "Epoch 15: saving model to skin.h5\n",
      "1174/1174 [==============================] - 36s 31ms/step - loss: 0.3337 - accuracy: 0.8728 - val_loss: 0.2684 - val_accuracy: 0.9000\n",
      "Epoch 16/100\n",
      "1173/1174 [============================>.] - ETA: 0s - loss: 0.3197 - accuracy: 0.8771\n",
      "Epoch 16: saving model to skin.h5\n",
      "1174/1174 [==============================] - 35s 30ms/step - loss: 0.3197 - accuracy: 0.8771 - val_loss: 0.2450 - val_accuracy: 0.9076\n",
      "Epoch 17/100\n",
      "1173/1174 [============================>.] - ETA: 0s - loss: 0.3053 - accuracy: 0.8831\n",
      "Epoch 17: saving model to skin.h5\n",
      "1174/1174 [==============================] - 36s 31ms/step - loss: 0.3054 - accuracy: 0.8831 - val_loss: 0.2410 - val_accuracy: 0.9061\n",
      "Epoch 18/100\n",
      "1173/1174 [============================>.] - ETA: 0s - loss: 0.2912 - accuracy: 0.8874\n",
      "Epoch 18: saving model to skin.h5\n",
      "1174/1174 [==============================] - 35s 30ms/step - loss: 0.2912 - accuracy: 0.8875 - val_loss: 0.2303 - val_accuracy: 0.9165\n",
      "Epoch 19/100\n",
      "1172/1174 [============================>.] - ETA: 0s - loss: 0.2811 - accuracy: 0.8923\n",
      "Epoch 19: saving model to skin.h5\n",
      "1174/1174 [==============================] - 36s 31ms/step - loss: 0.2810 - accuracy: 0.8924 - val_loss: 0.2240 - val_accuracy: 0.9159\n",
      "Epoch 20/100\n",
      "1172/1174 [============================>.] - ETA: 0s - loss: 0.2653 - accuracy: 0.8980\n",
      "Epoch 20: saving model to skin.h5\n",
      "1174/1174 [==============================] - 38s 32ms/step - loss: 0.2655 - accuracy: 0.8980 - val_loss: 0.2158 - val_accuracy: 0.9189\n",
      "Epoch 21/100\n",
      "1172/1174 [============================>.] - ETA: 0s - loss: 0.2553 - accuracy: 0.9019\n",
      "Epoch 21: saving model to skin.h5\n",
      "1174/1174 [==============================] - 30s 26ms/step - loss: 0.2554 - accuracy: 0.9018 - val_loss: 0.2064 - val_accuracy: 0.9251\n",
      "Epoch 22/100\n",
      "1173/1174 [============================>.] - ETA: 0s - loss: 0.2478 - accuracy: 0.9067\n",
      "Epoch 22: saving model to skin.h5\n",
      "1174/1174 [==============================] - 37s 31ms/step - loss: 0.2479 - accuracy: 0.9067 - val_loss: 0.2077 - val_accuracy: 0.9211\n",
      "Epoch 23/100\n",
      "1173/1174 [============================>.] - ETA: 0s - loss: 0.2376 - accuracy: 0.9096\n",
      "Epoch 23: saving model to skin.h5\n",
      "1174/1174 [==============================] - 35s 30ms/step - loss: 0.2376 - accuracy: 0.9096 - val_loss: 0.1978 - val_accuracy: 0.9306\n",
      "Epoch 24/100\n",
      "1172/1174 [============================>.] - ETA: 0s - loss: 0.2308 - accuracy: 0.9117\n",
      "Epoch 24: saving model to skin.h5\n",
      "1174/1174 [==============================] - 36s 31ms/step - loss: 0.2308 - accuracy: 0.9116 - val_loss: 0.1663 - val_accuracy: 0.9407\n",
      "Epoch 25/100\n",
      "1173/1174 [============================>.] - ETA: 0s - loss: 0.2197 - accuracy: 0.9159\n",
      "Epoch 25: saving model to skin.h5\n",
      "1174/1174 [==============================] - 36s 30ms/step - loss: 0.2197 - accuracy: 0.9159 - val_loss: 0.2251 - val_accuracy: 0.9145\n",
      "Epoch 26/100\n",
      "1172/1174 [============================>.] - ETA: 0s - loss: 0.2185 - accuracy: 0.9156\n",
      "Epoch 26: saving model to skin.h5\n",
      "1174/1174 [==============================] - 35s 30ms/step - loss: 0.2183 - accuracy: 0.9157 - val_loss: 0.1612 - val_accuracy: 0.9396\n",
      "Epoch 27/100\n",
      "1172/1174 [============================>.] - ETA: 0s - loss: 0.2042 - accuracy: 0.9226\n",
      "Epoch 27: saving model to skin.h5\n",
      "1174/1174 [==============================] - 38s 32ms/step - loss: 0.2041 - accuracy: 0.9227 - val_loss: 0.1540 - val_accuracy: 0.9457\n",
      "Epoch 28/100\n",
      "1172/1174 [============================>.] - ETA: 0s - loss: 0.1992 - accuracy: 0.9248\n",
      "Epoch 28: saving model to skin.h5\n",
      "1174/1174 [==============================] - 37s 31ms/step - loss: 0.1992 - accuracy: 0.9247 - val_loss: 0.1479 - val_accuracy: 0.9504\n",
      "Epoch 29/100\n",
      "1174/1174 [==============================] - ETA: 0s - loss: 0.1934 - accuracy: 0.9254\n",
      "Epoch 29: saving model to skin.h5\n",
      "1174/1174 [==============================] - 32s 27ms/step - loss: 0.1934 - accuracy: 0.9254 - val_loss: 0.1458 - val_accuracy: 0.9500\n",
      "Epoch 30/100\n",
      "1172/1174 [============================>.] - ETA: 0s - loss: 0.1874 - accuracy: 0.9298\n",
      "Epoch 30: saving model to skin.h5\n",
      "1174/1174 [==============================] - 39s 33ms/step - loss: 0.1873 - accuracy: 0.9299 - val_loss: 0.1602 - val_accuracy: 0.9436\n",
      "Epoch 31/100\n",
      "1173/1174 [============================>.] - ETA: 0s - loss: 0.1841 - accuracy: 0.9313\n",
      "Epoch 31: saving model to skin.h5\n",
      "1174/1174 [==============================] - 34s 29ms/step - loss: 0.1841 - accuracy: 0.9313 - val_loss: 0.1480 - val_accuracy: 0.9503\n",
      "Epoch 32/100\n",
      "1174/1174 [==============================] - ETA: 0s - loss: 0.1804 - accuracy: 0.9315\n",
      "Epoch 32: saving model to skin.h5\n",
      "1174/1174 [==============================] - 36s 31ms/step - loss: 0.1804 - accuracy: 0.9315 - val_loss: 0.1357 - val_accuracy: 0.9530\n",
      "Epoch 33/100\n",
      "1174/1174 [==============================] - ETA: 0s - loss: 0.1731 - accuracy: 0.9359\n",
      "Epoch 33: saving model to skin.h5\n",
      "1174/1174 [==============================] - 33s 28ms/step - loss: 0.1731 - accuracy: 0.9359 - val_loss: 0.1357 - val_accuracy: 0.9538\n",
      "Epoch 34/100\n",
      "1174/1174 [==============================] - ETA: 0s - loss: 0.1666 - accuracy: 0.9369\n",
      "Epoch 34: saving model to skin.h5\n",
      "1174/1174 [==============================] - 36s 31ms/step - loss: 0.1666 - accuracy: 0.9369 - val_loss: 0.1220 - val_accuracy: 0.9613\n",
      "Epoch 35/100\n",
      "1172/1174 [============================>.] - ETA: 0s - loss: 0.1636 - accuracy: 0.9380\n",
      "Epoch 35: saving model to skin.h5\n",
      "1174/1174 [==============================] - 38s 32ms/step - loss: 0.1637 - accuracy: 0.9380 - val_loss: 0.1609 - val_accuracy: 0.9476\n",
      "Epoch 36/100\n",
      "1172/1174 [============================>.] - ETA: 0s - loss: 0.1661 - accuracy: 0.9370\n",
      "Epoch 36: saving model to skin.h5\n",
      "1174/1174 [==============================] - 36s 30ms/step - loss: 0.1660 - accuracy: 0.9370 - val_loss: 0.1436 - val_accuracy: 0.9515\n",
      "Epoch 37/100\n",
      "1172/1174 [============================>.] - ETA: 0s - loss: 0.1562 - accuracy: 0.9417\n",
      "Epoch 37: saving model to skin.h5\n",
      "1174/1174 [==============================] - 37s 32ms/step - loss: 0.1561 - accuracy: 0.9417 - val_loss: 0.1225 - val_accuracy: 0.9579\n",
      "Epoch 38/100\n",
      "1172/1174 [============================>.] - ETA: 0s - loss: 0.1503 - accuracy: 0.9427\n",
      "Epoch 38: saving model to skin.h5\n",
      "1174/1174 [==============================] - 36s 30ms/step - loss: 0.1502 - accuracy: 0.9427 - val_loss: 0.1231 - val_accuracy: 0.9578\n",
      "Epoch 39/100\n",
      "1173/1174 [============================>.] - ETA: 0s - loss: 0.1510 - accuracy: 0.9431\n",
      "Epoch 39: saving model to skin.h5\n",
      "1174/1174 [==============================] - 35s 30ms/step - loss: 0.1509 - accuracy: 0.9432 - val_loss: 0.1208 - val_accuracy: 0.9608\n",
      "Epoch 40/100\n",
      "1173/1174 [============================>.] - ETA: 0s - loss: 0.1468 - accuracy: 0.9454\n",
      "Epoch 40: saving model to skin.h5\n",
      "1174/1174 [==============================] - 37s 32ms/step - loss: 0.1468 - accuracy: 0.9455 - val_loss: 0.1194 - val_accuracy: 0.9623\n",
      "Epoch 41/100\n",
      "1172/1174 [============================>.] - ETA: 0s - loss: 0.1461 - accuracy: 0.9453\n",
      "Epoch 41: saving model to skin.h5\n",
      "1174/1174 [==============================] - 36s 30ms/step - loss: 0.1461 - accuracy: 0.9453 - val_loss: 0.1247 - val_accuracy: 0.9560\n",
      "Epoch 42/100\n",
      "1174/1174 [==============================] - ETA: 0s - loss: 0.1393 - accuracy: 0.9480\n",
      "Epoch 42: saving model to skin.h5\n",
      "1174/1174 [==============================] - 35s 30ms/step - loss: 0.1393 - accuracy: 0.9480 - val_loss: 0.1279 - val_accuracy: 0.9586\n",
      "Epoch 43/100\n",
      "1173/1174 [============================>.] - ETA: 0s - loss: 0.1390 - accuracy: 0.9474\n",
      "Epoch 43: saving model to skin.h5\n",
      "1174/1174 [==============================] - 34s 29ms/step - loss: 0.1390 - accuracy: 0.9474 - val_loss: 0.1306 - val_accuracy: 0.9559\n",
      "Epoch 44/100\n",
      "1173/1174 [============================>.] - ETA: 0s - loss: 0.1330 - accuracy: 0.9502\n",
      "Epoch 44: saving model to skin.h5\n",
      "1174/1174 [==============================] - 34s 29ms/step - loss: 0.1330 - accuracy: 0.9502 - val_loss: 0.1119 - val_accuracy: 0.9628\n",
      "Epoch 45/100\n",
      "1172/1174 [============================>.] - ETA: 0s - loss: 0.1334 - accuracy: 0.9504\n",
      "Epoch 45: saving model to skin.h5\n",
      "1174/1174 [==============================] - 36s 31ms/step - loss: 0.1334 - accuracy: 0.9504 - val_loss: 0.1101 - val_accuracy: 0.9641\n",
      "Epoch 46/100\n",
      "1173/1174 [============================>.] - ETA: 0s - loss: 0.1293 - accuracy: 0.9516\n",
      "Epoch 46: saving model to skin.h5\n",
      "1174/1174 [==============================] - 35s 30ms/step - loss: 0.1293 - accuracy: 0.9517 - val_loss: 0.1249 - val_accuracy: 0.9630\n",
      "Epoch 47/100\n",
      "1174/1174 [==============================] - ETA: 0s - loss: 0.1329 - accuracy: 0.9501\n",
      "Epoch 47: saving model to skin.h5\n",
      "1174/1174 [==============================] - 37s 31ms/step - loss: 0.1329 - accuracy: 0.9501 - val_loss: 0.1208 - val_accuracy: 0.9588\n",
      "Epoch 48/100\n",
      "1172/1174 [============================>.] - ETA: 0s - loss: 0.1273 - accuracy: 0.9524\n",
      "Epoch 48: saving model to skin.h5\n",
      "1174/1174 [==============================] - 42s 36ms/step - loss: 0.1272 - accuracy: 0.9525 - val_loss: 0.1158 - val_accuracy: 0.9669\n",
      "Epoch 49/100\n",
      "1173/1174 [============================>.] - ETA: 0s - loss: 0.1183 - accuracy: 0.9564\n",
      "Epoch 52: saving model to skin.h5\n",
      "1174/1174 [==============================] - 42s 36ms/step - loss: 0.1183 - accuracy: 0.9563 - val_loss: 0.1175 - val_accuracy: 0.9616\n",
      "Epoch 53/100\n",
      "1173/1174 [============================>.] - ETA: 0s - loss: 0.1204 - accuracy: 0.9550\n",
      "Epoch 53: saving model to skin.h5\n",
      "1174/1174 [==============================] - 29s 25ms/step - loss: 0.1204 - accuracy: 0.9550 - val_loss: 0.1083 - val_accuracy: 0.9677\n",
      "Epoch 54/100\n",
      "1173/1174 [============================>.] - ETA: 0s - loss: 0.1147 - accuracy: 0.9579\n",
      "Epoch 54: saving model to skin.h5\n",
      "1174/1174 [==============================] - 33s 28ms/step - loss: 0.1146 - accuracy: 0.9579 - val_loss: 0.0999 - val_accuracy: 0.9706\n",
      "Epoch 55/100\n",
      "1173/1174 [============================>.] - ETA: 0s - loss: 0.1097 - accuracy: 0.9597\n",
      "Epoch 55: saving model to skin.h5\n",
      "1174/1174 [==============================] - 38s 32ms/step - loss: 0.1097 - accuracy: 0.9597 - val_loss: 0.0959 - val_accuracy: 0.9709\n",
      "Epoch 56/100\n",
      "1173/1174 [============================>.] - ETA: 0s - loss: 0.1088 - accuracy: 0.9596\n",
      "Epoch 56: saving model to skin.h5\n",
      "1174/1174 [==============================] - 39s 33ms/step - loss: 0.1088 - accuracy: 0.9596 - val_loss: 0.1005 - val_accuracy: 0.9696\n",
      "Epoch 57/100\n",
      "1172/1174 [============================>.] - ETA: 0s - loss: 0.1120 - accuracy: 0.9580\n",
      "Epoch 57: saving model to skin.h5\n",
      "1174/1174 [==============================] - 38s 32ms/step - loss: 0.1119 - accuracy: 0.9581 - val_loss: 0.1044 - val_accuracy: 0.9691\n",
      "Epoch 58/100\n",
      "1173/1174 [============================>.] - ETA: 0s - loss: 0.1076 - accuracy: 0.9608\n",
      "Epoch 58: saving model to skin.h5\n",
      "1174/1174 [==============================] - 38s 33ms/step - loss: 0.1076 - accuracy: 0.9608 - val_loss: 0.1007 - val_accuracy: 0.9685\n",
      "Epoch 59/100\n",
      "1174/1174 [==============================] - ETA: 0s - loss: 0.1073 - accuracy: 0.9590\n",
      "Epoch 59: saving model to skin.h5\n",
      "1174/1174 [==============================] - 41s 35ms/step - loss: 0.1073 - accuracy: 0.9590 - val_loss: 0.0887 - val_accuracy: 0.9733\n",
      "Epoch 60/100\n",
      "1174/1174 [==============================] - ETA: 0s - loss: 0.1063 - accuracy: 0.9611\n",
      "Epoch 60: saving model to skin.h5\n",
      "1174/1174 [==============================] - 37s 32ms/step - loss: 0.1063 - accuracy: 0.9611 - val_loss: 0.0916 - val_accuracy: 0.9722\n",
      "Epoch 61/100\n",
      "1173/1174 [============================>.] - ETA: 0s - loss: 0.1044 - accuracy: 0.9618\n",
      "Epoch 61: saving model to skin.h5\n",
      "1174/1174 [==============================] - 32s 27ms/step - loss: 0.1044 - accuracy: 0.9618 - val_loss: 0.1018 - val_accuracy: 0.9695\n",
      "Epoch 62/100\n",
      "1172/1174 [============================>.] - ETA: 0s - loss: 0.0997 - accuracy: 0.9622\n",
      "Epoch 62: saving model to skin.h5\n",
      "1174/1174 [==============================] - 29s 25ms/step - loss: 0.0996 - accuracy: 0.9622 - val_loss: 0.0980 - val_accuracy: 0.9702\n",
      "Epoch 63/100\n",
      "1174/1174 [==============================] - ETA: 0s - loss: 0.1035 - accuracy: 0.9623\n",
      "Epoch 63: saving model to skin.h5\n",
      "1174/1174 [==============================] - 30s 26ms/step - loss: 0.1035 - accuracy: 0.9623 - val_loss: 0.1044 - val_accuracy: 0.9677\n",
      "Epoch 64/100\n",
      "1173/1174 [============================>.] - ETA: 0s - loss: 0.1021 - accuracy: 0.9633\n",
      "Epoch 64: saving model to skin.h5\n",
      "1174/1174 [==============================] - 30s 25ms/step - loss: 0.1021 - accuracy: 0.9634 - val_loss: 0.0957 - val_accuracy: 0.9721\n",
      "Epoch 65/100\n",
      "1174/1174 [==============================] - ETA: 0s - loss: 0.0942 - accuracy: 0.9648\n",
      "Epoch 65: saving model to skin.h5\n",
      "1174/1174 [==============================] - 29s 25ms/step - loss: 0.0942 - accuracy: 0.9648 - val_loss: 0.0995 - val_accuracy: 0.9705\n",
      "Epoch 66/100\n",
      "1173/1174 [============================>.] - ETA: 0s - loss: 0.0963 - accuracy: 0.9636\n",
      "Epoch 66: saving model to skin.h5\n",
      "1174/1174 [==============================] - 29s 25ms/step - loss: 0.0962 - accuracy: 0.9636 - val_loss: 0.1035 - val_accuracy: 0.9719\n",
      "Epoch 67/100\n",
      "1174/1174 [==============================] - ETA: 0s - loss: 0.0977 - accuracy: 0.9652\n",
      "Epoch 67: saving model to skin.h5\n",
      "1174/1174 [==============================] - 29s 25ms/step - loss: 0.0977 - accuracy: 0.9652 - val_loss: 0.1165 - val_accuracy: 0.9672\n",
      "Epoch 68/100\n",
      "1172/1174 [============================>.] - ETA: 0s - loss: 0.0998 - accuracy: 0.9643\n",
      "Epoch 68: saving model to skin.h5\n",
      "1174/1174 [==============================] - 29s 25ms/step - loss: 0.0998 - accuracy: 0.9643 - val_loss: 0.0954 - val_accuracy: 0.9709\n",
      "Epoch 69/100\n",
      "1174/1174 [==============================] - ETA: 0s - loss: 0.0922 - accuracy: 0.9662\n",
      "Epoch 69: saving model to skin.h5\n",
      "1174/1174 [==============================] - 30s 25ms/step - loss: 0.0922 - accuracy: 0.9662 - val_loss: 0.0962 - val_accuracy: 0.9726\n"
     ]
    }
   ],
   "source": [
    "history = model.fit(Xtrain,\n",
    "                    Ytrain,\n",
    "                    epochs = 100,\n",
    "                    validation_data = (Xtest, Ytest),\n",
    "                    callbacks=[callback, early_stopping])"
   ]
  },
  {
   "cell_type": "code",
   "execution_count": 41,
   "metadata": {},
   "outputs": [],
   "source": [
    "import matplotlib.pyplot as plt"
   ]
  },
  {
   "cell_type": "code",
   "execution_count": 42,
   "metadata": {},
   "outputs": [
    {
     "name": "stdout",
     "output_type": "stream",
     "text": [
      "1174/1174 [==============================] - 11s 9ms/step - loss: 0.0322 - accuracy: 0.9903\n"
     ]
    },
    {
     "data": {
      "text/plain": [
       "[0.03219415619969368, 0.9902791380882263]"
      ]
     },
     "execution_count": 42,
     "metadata": {},
     "output_type": "execute_result"
    }
   ],
   "source": [
    "model.evaluate(Xtrain, Ytrain)"
   ]
  },
  {
   "cell_type": "code",
   "execution_count": 43,
   "metadata": {},
   "outputs": [
    {
     "name": "stdout",
     "output_type": "stream",
     "text": [
      "294/294 [==============================] - 3s 9ms/step - loss: 0.0887 - accuracy: 0.9733\n"
     ]
    },
    {
     "data": {
      "text/plain": [
       "[0.08866450190544128, 0.9732608795166016]"
      ]
     },
     "execution_count": 43,
     "metadata": {},
     "output_type": "execute_result"
    }
   ],
   "source": [
    "model.evaluate(Xtest, Ytest)"
   ]
  },
  {
   "cell_type": "markdown",
   "metadata": {},
   "source": [
    "**PLEASE GIVE AN UPVOTE**"
   ]
  },
  {
   "cell_type": "code",
   "execution_count": 44,
   "metadata": {},
   "outputs": [
    {
     "data": {
      "image/png": "[encoded data removed]",
      "text/plain": [
       "<Figure size 640x480 with 1 Axes>"
      ]
     },
     "metadata": {},
     "output_type": "display_data"
    }
   ],
   "source": [
    "history_dict = history.history\n",
    "\n",
    "loss_values = history_dict['loss']\n",
    "val_loss_values = history_dict['val_loss']\n",
    "epochs = range(1, len(loss_values) + 1)\n",
    "\n",
    "line1 = plt.plot(epochs, val_loss_values, label='Validation/Test Loss')\n",
    "line2 = plt.plot(epochs, loss_values, label='Training Loss')\n",
    "plt.setp(line1, linewidth=2.0, marker = '+', markersize=10.0)\n",
    "plt.setp(line2, linewidth=2.0, marker = '4', markersize=10.0)\n",
    "plt.xlabel('Epochs') \n",
    "plt.ylabel('Loss')\n",
    "plt.grid(True)\n",
    "plt.legend()\n",
    "plt.show()"
   ]
  },
  {
   "cell_type": "code",
   "execution_count": 45,
   "metadata": {},
   "outputs": [
    {
     "data": {
      "image/png": "[encoded data removed]",
      "text/plain": [
       "<Figure size 640x480 with 1 Axes>"
      ]
     },
     "metadata": {},
     "output_type": "display_data"
    }
   ],
   "source": [
    "history_dict = history.history\n",
    "\n",
    "acc_values = history_dict['accuracy']\n",
    "val_acc_values = history_dict['val_accuracy']\n",
    "epochs = range(1, len(loss_values) + 1)\n",
    "\n",
    "line1 = plt.plot(epochs, val_acc_values, label='Validation/Test Accuracy')\n",
    "line2 = plt.plot(epochs, acc_values, label='Training Accuracy')\n",
    "plt.setp(line1, linewidth=2.0, marker = '+', markersize=10.0)\n",
    "plt.setp(line2, linewidth=2.0, marker = '4', markersize=10.0)\n",
    "plt.xlabel('Epochs') \n",
    "plt.ylabel('Accuracy')\n",
    "plt.grid(True)\n",
    "plt.legend()\n",
    "plt.show()"
   ]
  },
  {
   "cell_type": "code",
   "execution_count": null,
   "metadata": {},
   "outputs": [],
   "source": []
  }
 ],
 "metadata": {
  "kernelspec": {
   "display_name": "Python 3 (ipykernel)",
   "language": "python",
   "name": "python3"
  },
  "language_info": {
   "codemirror_mode": {
    "name": "ipython",
    "version": 3
   },
   "file_extension": ".py",
   "mimetype": "text/x-python",
   "name": "python",
   "nbconvert_exporter": "python",
   "pygments_lexer": "ipython3",
   "version": "3.10.5"
  }
 },
 "nbformat": 4,
 "nbformat_minor": 4
}
